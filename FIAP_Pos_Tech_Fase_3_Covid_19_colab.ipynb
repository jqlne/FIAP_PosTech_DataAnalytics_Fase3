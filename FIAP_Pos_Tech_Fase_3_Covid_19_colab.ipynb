{
  "nbformat": 4,
  "nbformat_minor": 0,
  "metadata": {
    "colab": {
      "provenance": []
    },
    "kernelspec": {
      "name": "python3",
      "display_name": "Python 3"
    },
    "language_info": {
      "name": "python"
    }
  },
  "cells": [
    {
      "cell_type": "markdown",
      "source": [
        "# Pos Tech - Fase 3 - Covid-19"
      ],
      "metadata": {
        "id": "ECV4wrTv-e1I"
      }
    },
    {
      "cell_type": "code",
      "execution_count": null,
      "metadata": {
        "id": "s5PFJUqZkUbY",
        "colab": {
          "base_uri": "https://localhost:8080/"
        },
        "outputId": "feb0fe95-e4e8-4730-9eef-d5f26e26c981"
      },
      "outputs": [
        {
          "output_type": "stream",
          "name": "stdout",
          "text": [
            "Requirement already satisfied: pyspark in /usr/local/lib/python3.10/dist-packages (3.5.3)\n",
            "Requirement already satisfied: py4j==0.10.9.7 in /usr/local/lib/python3.10/dist-packages (from pyspark) (0.10.9.7)\n",
            "Requirement already satisfied: findspark in /usr/local/lib/python3.10/dist-packages (2.0.1)\n"
          ]
        }
      ],
      "source": [
        "!pip install pyspark\n",
        "!pip install findspark"
      ]
    },
    {
      "cell_type": "code",
      "source": [
        "from  pyspark.sql import Row, DataFrame\n",
        "from  pyspark.sql.types import StringType, StructType, StructField, IntegerType\n",
        "from  pyspark.sql.functions import col, expr, lit, substring, concat, concat_ws, when, coalesce\n",
        "from  pyspark.sql import functions as F\n",
        "from functools import reduce\n",
        "\n",
        "import pyspark\n",
        "import findspark\n",
        "\n",
        "findspark.init()\n",
        "from pyspark.sql import SparkSession\n",
        "\n",
        "Spark = SparkSession.builder.master(\"local[*]\").getOrCreate()\n"
      ],
      "metadata": {
        "id": "R0j-DK52ndjl"
      },
      "execution_count": null,
      "outputs": []
    },
    {
      "cell_type": "code",
      "source": [
        "df = Spark.read.csv('/content/bq-results-20240930-215503-1727733352863.csv', sep=',', inferSchema= True,header= True)\n"
      ],
      "metadata": {
        "id": "gLRT-M-anzqB"
      },
      "execution_count": null,
      "outputs": []
    },
    {
      "cell_type": "code",
      "source": [
        "df.printSchema()"
      ],
      "metadata": {
        "id": "CByF5KDNnzvb",
        "colab": {
          "base_uri": "https://localhost:8080/"
        },
        "outputId": "e3c56c78-be68-44b0-c623-e9e1a66c327e"
      },
      "execution_count": null,
      "outputs": [
        {
          "output_type": "stream",
          "name": "stdout",
          "text": [
            "root\n",
            " |-- ano: integer (nullable = true)\n",
            " |-- mes: integer (nullable = true)\n",
            " |-- semana: integer (nullable = true)\n",
            " |-- estado: string (nullable = true)\n",
            " |-- idade: integer (nullable = true)\n",
            " |-- sexo: integer (nullable = true)\n",
            " |-- cor_ou_raca: integer (nullable = true)\n",
            " |-- escolaridade: integer (nullable = true)\n",
            " |-- febre: integer (nullable = true)\n",
            " |-- tosse: integer (nullable = true)\n",
            " |-- dor_de_garganta: integer (nullable = true)\n",
            " |-- dificuldade_para_respirar: integer (nullable = true)\n",
            " |-- dor_de_cabeca: integer (nullable = true)\n",
            " |-- dor_no_peito: integer (nullable = true)\n",
            " |-- nausa: integer (nullable = true)\n",
            " |-- nariz_entupido_ou_escorrendo: integer (nullable = true)\n",
            " |-- fadiga: integer (nullable = true)\n",
            " |-- dor_nos_olhos: integer (nullable = true)\n",
            " |-- perda_de_cheiro_ou_sabor: integer (nullable = true)\n",
            " |-- dor_muscular: integer (nullable = true)\n",
            " |-- atividade_profissao: integer (nullable = true)\n",
            " |-- semanas_trabalhadas: integer (nullable = true)\n",
            " |-- faixa_de_renda: integer (nullable = true)\n",
            " |-- teste_realizado: integer (nullable = true)\n",
            " |-- resultado_teste: integer (nullable = true)\n",
            " |-- temporariamente_afastado_trabalho: integer (nullable = true)\n",
            " |-- motivo_afastamento: integer (nullable = true)\n",
            "\n"
          ]
        }
      ]
    },
    {
      "cell_type": "code",
      "source": [
        "df = df.withColumn(\n",
        "    \"estado\",\n",
        "     when(col(\"estado\") == \"RO\", \"Rondônia\")\n",
        "    .when(col(\"estado\") == \"AC\", \"Acre\")\n",
        "    .when(col(\"estado\") == \"AM\", \"Amazonas\")\n",
        "    .when(col(\"estado\") == \"RR\", \"Roraima\")\n",
        "    .when(col(\"estado\") == \"PA\", \"Pará\")\n",
        "    .when(col(\"estado\") == \"AP\", \"Amapá\")\n",
        "    .when(col(\"estado\") == \"TO\", \"Tocantins\")\n",
        "    .when(col(\"estado\") == \"MA\", \"Maranhão\")\n",
        "    .when(col(\"estado\") == \"PI\", \"Piauí\")\n",
        "    .when(col(\"estado\") == \"CE\", \"Ceará\")\n",
        "    .when(col(\"estado\") == \"RN\", \"Rio Grande do Norte\")\n",
        "    .when(col(\"estado\") == \"PB\", \"Paraíba\")\n",
        "    .when(col(\"estado\") == \"PE\", \"Pernambuco\")\n",
        "    .when(col(\"estado\") == \"AL\", \"Alagoas\")\n",
        "    .when(col(\"estado\") == \"SE\", \"Sergipe\")\n",
        "    .when(col(\"estado\") == \"BA\", \"Bahia\")\n",
        "    .when(col(\"estado\") == \"MG\", \"Minas Gerais\")\n",
        "    .when(col(\"estado\") == \"ES\", \"Espírito Santo\")\n",
        "    .when(col(\"estado\") == \"RJ\", \"Rio de Janeiro\")\n",
        "    .when(col(\"estado\") == \"SP\", \"São Paulo\")\n",
        "    .when(col(\"estado\") == \"PR\", \"Paraná\")\n",
        "    .when(col(\"estado\") == \"SC\", \"Santa Catarina\")\n",
        "    .when(col(\"estado\") == \"RS\", \"Rio Grande do Sul\")\n",
        "    .when(col(\"estado\") == \"MS\", \"Mato Grosso do Sul\")\n",
        "    .when(col(\"estado\") == \"MT\", \"Mato Grosso\")\n",
        "    .when(col(\"estado\") == \"GO\", \"Goiás\")\n",
        "    .when(col(\"estado\") == \"DF\", \"Distrito Federal\")\n",
        "    .otherwise(col(\"estado\"))  # Mantém a sigla original caso não haja correspondência\n",
        ")\n"
      ],
      "metadata": {
        "id": "xIz4MCIOps2H"
      },
      "execution_count": null,
      "outputs": []
    },
    {
      "cell_type": "code",
      "source": [
        "df.show()"
      ],
      "metadata": {
        "id": "gl599vsstEiK",
        "colab": {
          "base_uri": "https://localhost:8080/"
        },
        "outputId": "15ba68fb-d56f-40a7-fa50-6392dd334a20"
      },
      "execution_count": null,
      "outputs": [
        {
          "output_type": "stream",
          "name": "stdout",
          "text": [
            "+----+---+------+------+-----+----+-----------+------------+-----+-----+---------------+-------------------------+-------------+------------+-----+----------------------------+------+-------------+------------------------+------------+-------------------+-------------------+--------------+---------------+---------------+---------------------------------+------------------+\n",
            "| ano|mes|semana|estado|idade|sexo|cor_ou_raca|escolaridade|febre|tosse|dor_de_garganta|dificuldade_para_respirar|dor_de_cabeca|dor_no_peito|nausa|nariz_entupido_ou_escorrendo|fadiga|dor_nos_olhos|perda_de_cheiro_ou_sabor|dor_muscular|atividade_profissao|semanas_trabalhadas|faixa_de_renda|teste_realizado|resultado_teste|temporariamente_afastado_trabalho|motivo_afastamento|\n",
            "+----+---+------+------+-----+----+-----------+------------+-----+-----+---------------+-------------------------+-------------+------------+-----+----------------------------+------+-------------+------------------------+------------+-------------------+-------------------+--------------+---------------+---------------+---------------------------------+------------------+\n",
            "|2020|  9|     1| Amapá|   47|   1|          4|           6|    2|    2|              2|                        2|            2|           2|    2|                           2|     2|            2|                       2|           2|                  4|                 40|             5|              2|           NULL|                             NULL|              NULL|\n",
            "|2020|  9|     4| Amapá|   20|   1|          1|           5|    2|    2|              2|                        2|            2|           2|    2|                           2|     2|            2|                       2|           2|                  7|                 50|             4|              2|           NULL|                             NULL|              NULL|\n",
            "|2020|  9|     2| Amapá|   18|   2|          1|           5|    2|    2|              2|                        2|            2|           2|    2|                           2|     2|            2|                       2|           2|               NULL|               NULL|          NULL|              2|           NULL|                                2|              NULL|\n",
            "|2020|  9|     4| Amapá|   22|   1|          1|           5|    2|    2|              2|                        2|            2|           2|    2|                           2|     2|            2|                       2|           2|               NULL|               NULL|          NULL|              2|           NULL|                                2|              NULL|\n",
            "|2020|  9|     4| Amapá|   64|   2|          4|           2|    2|    2|              2|                        2|            1|           2|    2|                           2|     2|            2|                       2|           2|                  6|                 50|             2|              2|           NULL|                             NULL|              NULL|\n",
            "|2020|  9|     3| Amapá|   19|   1|          4|           6|    2|    2|              2|                        2|            2|           2|    2|                           2|     2|            2|                       2|           2|               NULL|               NULL|          NULL|              2|           NULL|                                2|              NULL|\n",
            "|2020|  9|     3| Amapá|   33|   1|          1|           7|    2|    2|              2|                        2|            2|           2|    2|                           2|     2|            2|                       2|           2|                  6|                 40|             4|              2|           NULL|                             NULL|              NULL|\n",
            "|2020|  9|     3| Amapá|   13|   2|          4|           2|    2|    2|              2|                        2|            2|           2|    2|                           2|     2|            2|                       2|           2|               NULL|               NULL|          NULL|              2|           NULL|                             NULL|              NULL|\n",
            "|2020|  9|     1| Amapá|   64|   1|          4|           2|    2|    2|              2|                        2|            2|           2|    2|                           2|     2|            2|                       2|           2|                 18|                 30|             6|              2|           NULL|                                1|                 1|\n",
            "|2020|  9|     1| Amapá|   21|   2|          4|           7|    2|    2|              2|                        2|            2|           2|    2|                           2|     2|            2|                       2|           2|                 12|                 30|             4|              2|           NULL|                             NULL|              NULL|\n",
            "|2020|  9|     2| Amapá|   45|   2|          4|           5|    1|    2|              2|                        2|            2|           1|    2|                           2|     2|            2|                       2|           1|               NULL|               NULL|          NULL|              2|           NULL|                                2|              NULL|\n",
            "|2020|  9|     2| Amapá|   61|   1|          4|           5|    2|    2|              2|                        2|            2|           2|    2|                           2|     2|            2|                       2|           2|               NULL|               NULL|          NULL|              2|           NULL|                                2|              NULL|\n",
            "|2020|  9|     4| Amapá|   18|   1|          4|           4|    2|    2|              2|                        2|            2|           2|    2|                           2|     2|            2|                       2|           2|               NULL|               NULL|          NULL|              2|           NULL|                                2|              NULL|\n",
            "|2020|  9|     4| Amapá|   41|   1|          4|           6|    2|    2|              2|                        2|            2|           2|    2|                           2|     2|            2|                       2|           2|                  6|                 44|             6|              2|           NULL|                             NULL|              NULL|\n",
            "|2020|  9|     4| Amapá|   38|   2|          1|           8|    2|    2|              2|                        2|            2|           2|    2|                           2|     2|            2|                       2|           2|                 20|                 40|             4|              2|           NULL|                             NULL|              NULL|\n",
            "|2020|  9|     4| Amapá|   42|   2|          1|           5|    2|    2|              2|                        2|            2|           2|    2|                           2|     2|            2|                       2|           2|               NULL|               NULL|          NULL|              1|              1|                                2|              NULL|\n",
            "|2020|  9|     3| Amapá|    7|   2|          4|           2|    2|    1|              1|                        2|            1|           2|    2|                           2|     2|            2|                       2|           2|               NULL|               NULL|          NULL|              1|              1|                             NULL|              NULL|\n",
            "|2020|  9|     3| Amapá|   40|   2|          4|           5|    2|    1|              2|                        2|            2|           2|    2|                           1|     2|            2|                       2|           1|               NULL|               NULL|          NULL|              1|              1|                                2|              NULL|\n",
            "|2020|  9|     1| Amapá|   35|   1|          4|           2|    1|    1|              1|                        1|            2|           2|    2|                           2|     2|            2|                       1|           2|               NULL|               NULL|          NULL|              2|           NULL|                                2|              NULL|\n",
            "|2020|  9|     3| Amapá|   68|   1|          2|           7|    2|    2|              2|                        2|            2|           2|    2|                           2|     2|            2|                       2|           2|               NULL|               NULL|          NULL|              2|           NULL|                                2|              NULL|\n",
            "+----+---+------+------+-----+----+-----------+------------+-----+-----+---------------+-------------------------+-------------+------------+-----+----------------------------+------+-------------+------------------------+------------+-------------------+-------------------+--------------+---------------+---------------+---------------------------------+------------------+\n",
            "only showing top 20 rows\n",
            "\n"
          ]
        }
      ]
    },
    {
      "cell_type": "code",
      "source": [
        "df = df.withColumn(\"sexo\", col(\"sexo\").cast(\"string\"))"
      ],
      "metadata": {
        "id": "7WOOHa5Yvy-a"
      },
      "execution_count": null,
      "outputs": []
    },
    {
      "cell_type": "code",
      "source": [
        "df = df.withColumn(\n",
        "    \"sexo\",\n",
        "    when(col(\"sexo\") == 1, \"Homem\").when(col(\"Sexo\") == 2, \"Mulher\")\n",
        ")\n",
        "df.select(\"sexo\").show(5)"
      ],
      "metadata": {
        "id": "ypnac37EtTAA",
        "colab": {
          "base_uri": "https://localhost:8080/"
        },
        "outputId": "9008fcb7-f066-439b-8fb3-021bd77a0f43"
      },
      "execution_count": null,
      "outputs": [
        {
          "output_type": "stream",
          "name": "stdout",
          "text": [
            "+------+\n",
            "|  sexo|\n",
            "+------+\n",
            "| Homem|\n",
            "| Homem|\n",
            "|Mulher|\n",
            "| Homem|\n",
            "|Mulher|\n",
            "+------+\n",
            "only showing top 5 rows\n",
            "\n"
          ]
        }
      ]
    },
    {
      "cell_type": "code",
      "source": [
        "df = df.withColumn(\"cor_ou_raca\", col(\"cor_ou_raca\").cast(\"string\"))"
      ],
      "metadata": {
        "id": "k8yUdVCpv7cm"
      },
      "execution_count": null,
      "outputs": []
    },
    {
      "cell_type": "code",
      "source": [
        "df = df.withColumn(\n",
        "    \"cor_ou_raca\",\n",
        "     when(col(\"cor_ou_raca\") == 1, \"Branca\")\n",
        "    .when(col(\"cor_ou_raca\") == 2, \"Preta\")\n",
        "    .when(col(\"cor_ou_raca\") == 3, \"Amarela\")\n",
        "    .when(col(\"cor_ou_raca\") == 4, \"Parda\")\n",
        "    .when(col(\"cor_ou_raca\") == 5, \"Indígena\")\n",
        "    .when(col(\"cor_ou_raca\") == 9, \"Ignorado\")\n",
        ")\n",
        "df.select(\"cor_ou_raca\").show(5)"
      ],
      "metadata": {
        "id": "3nh2kh96tmAc",
        "colab": {
          "base_uri": "https://localhost:8080/"
        },
        "outputId": "56942145-a0f7-4682-ed2c-8dc90f0797c0"
      },
      "execution_count": null,
      "outputs": [
        {
          "output_type": "stream",
          "name": "stdout",
          "text": [
            "+-----------+\n",
            "|cor_ou_raca|\n",
            "+-----------+\n",
            "|      Parda|\n",
            "|     Branca|\n",
            "|     Branca|\n",
            "|     Branca|\n",
            "|      Parda|\n",
            "+-----------+\n",
            "only showing top 5 rows\n",
            "\n"
          ]
        }
      ]
    },
    {
      "cell_type": "code",
      "source": [
        "df = df.withColumn(\"escolaridade\", col(\"escolaridade\").cast(\"string\"))"
      ],
      "metadata": {
        "id": "mMgwxa-10GmI"
      },
      "execution_count": null,
      "outputs": []
    },
    {
      "cell_type": "code",
      "source": [
        "df = df.withColumn(\n",
        "    \"escolaridade\",\n",
        "     when(col(\"Escolaridade\") == 1, \"Sem instrução\")\n",
        "    .when(col(\"Escolaridade\") == 2, \"Fundamental incompleto\")\n",
        "    .when(col(\"Escolaridade\") == 3, \"Fundamental completo\")\n",
        "    .when(col(\"Escolaridade\") == 4, \"Médio incompleto\")\n",
        "    .when(col(\"Escolaridade\") == 5, \"Médio completo\")\n",
        "    .when(col(\"Escolaridade\") == 6, \"Superior incompleto\")\n",
        "    .when(col(\"Escolaridade\") == 7, \"Superior completo\")\n",
        "    .when(col(\"Escolaridade\") == 8, \"Pós-graduação\")\n",
        ")\n",
        "df.select(\"escolaridade\").show(5)"
      ],
      "metadata": {
        "id": "RGERuezB0MU6",
        "colab": {
          "base_uri": "https://localhost:8080/"
        },
        "outputId": "8e959408-7618-4be9-cec4-e5eca6a28d4b"
      },
      "execution_count": null,
      "outputs": [
        {
          "output_type": "stream",
          "name": "stdout",
          "text": [
            "+--------------------+\n",
            "|        escolaridade|\n",
            "+--------------------+\n",
            "| Superior incompleto|\n",
            "|      Médio completo|\n",
            "|      Médio completo|\n",
            "|      Médio completo|\n",
            "|Fundamental incom...|\n",
            "+--------------------+\n",
            "only showing top 5 rows\n",
            "\n"
          ]
        }
      ]
    },
    {
      "cell_type": "code",
      "source": [
        "df.show()"
      ],
      "metadata": {
        "id": "XyH2nfgh0dGa",
        "colab": {
          "base_uri": "https://localhost:8080/"
        },
        "outputId": "e10e1a44-9975-4a6a-a301-6d60658a6f9e"
      },
      "execution_count": null,
      "outputs": [
        {
          "output_type": "stream",
          "name": "stdout",
          "text": [
            "+----+---+------+------+-----+------+-----------+--------------------+-----+-----+---------------+-------------------------+-------------+------------+-----+----------------------------+------+-------------+------------------------+------------+-------------------+-------------------+--------------+---------------+---------------+---------------------------------+------------------+\n",
            "| ano|mes|semana|estado|idade|  sexo|cor_ou_raca|        escolaridade|febre|tosse|dor_de_garganta|dificuldade_para_respirar|dor_de_cabeca|dor_no_peito|nausa|nariz_entupido_ou_escorrendo|fadiga|dor_nos_olhos|perda_de_cheiro_ou_sabor|dor_muscular|atividade_profissao|semanas_trabalhadas|faixa_de_renda|teste_realizado|resultado_teste|temporariamente_afastado_trabalho|motivo_afastamento|\n",
            "+----+---+------+------+-----+------+-----------+--------------------+-----+-----+---------------+-------------------------+-------------+------------+-----+----------------------------+------+-------------+------------------------+------------+-------------------+-------------------+--------------+---------------+---------------+---------------------------------+------------------+\n",
            "|2020|  9|     1| Amapá|   47| Homem|      Parda| Superior incompleto|    2|    2|              2|                        2|            2|           2|    2|                           2|     2|            2|                       2|           2|                  4|                 40|             5|              2|           NULL|                             NULL|              NULL|\n",
            "|2020|  9|     4| Amapá|   20| Homem|     Branca|      Médio completo|    2|    2|              2|                        2|            2|           2|    2|                           2|     2|            2|                       2|           2|                  7|                 50|             4|              2|           NULL|                             NULL|              NULL|\n",
            "|2020|  9|     2| Amapá|   18|Mulher|     Branca|      Médio completo|    2|    2|              2|                        2|            2|           2|    2|                           2|     2|            2|                       2|           2|               NULL|               NULL|          NULL|              2|           NULL|                                2|              NULL|\n",
            "|2020|  9|     4| Amapá|   22| Homem|     Branca|      Médio completo|    2|    2|              2|                        2|            2|           2|    2|                           2|     2|            2|                       2|           2|               NULL|               NULL|          NULL|              2|           NULL|                                2|              NULL|\n",
            "|2020|  9|     4| Amapá|   64|Mulher|      Parda|Fundamental incom...|    2|    2|              2|                        2|            1|           2|    2|                           2|     2|            2|                       2|           2|                  6|                 50|             2|              2|           NULL|                             NULL|              NULL|\n",
            "|2020|  9|     3| Amapá|   19| Homem|      Parda| Superior incompleto|    2|    2|              2|                        2|            2|           2|    2|                           2|     2|            2|                       2|           2|               NULL|               NULL|          NULL|              2|           NULL|                                2|              NULL|\n",
            "|2020|  9|     3| Amapá|   33| Homem|     Branca|   Superior completo|    2|    2|              2|                        2|            2|           2|    2|                           2|     2|            2|                       2|           2|                  6|                 40|             4|              2|           NULL|                             NULL|              NULL|\n",
            "|2020|  9|     3| Amapá|   13|Mulher|      Parda|Fundamental incom...|    2|    2|              2|                        2|            2|           2|    2|                           2|     2|            2|                       2|           2|               NULL|               NULL|          NULL|              2|           NULL|                             NULL|              NULL|\n",
            "|2020|  9|     1| Amapá|   64| Homem|      Parda|Fundamental incom...|    2|    2|              2|                        2|            2|           2|    2|                           2|     2|            2|                       2|           2|                 18|                 30|             6|              2|           NULL|                                1|                 1|\n",
            "|2020|  9|     1| Amapá|   21|Mulher|      Parda|   Superior completo|    2|    2|              2|                        2|            2|           2|    2|                           2|     2|            2|                       2|           2|                 12|                 30|             4|              2|           NULL|                             NULL|              NULL|\n",
            "|2020|  9|     2| Amapá|   45|Mulher|      Parda|      Médio completo|    1|    2|              2|                        2|            2|           1|    2|                           2|     2|            2|                       2|           1|               NULL|               NULL|          NULL|              2|           NULL|                                2|              NULL|\n",
            "|2020|  9|     2| Amapá|   61| Homem|      Parda|      Médio completo|    2|    2|              2|                        2|            2|           2|    2|                           2|     2|            2|                       2|           2|               NULL|               NULL|          NULL|              2|           NULL|                                2|              NULL|\n",
            "|2020|  9|     4| Amapá|   18| Homem|      Parda|    Médio incompleto|    2|    2|              2|                        2|            2|           2|    2|                           2|     2|            2|                       2|           2|               NULL|               NULL|          NULL|              2|           NULL|                                2|              NULL|\n",
            "|2020|  9|     4| Amapá|   41| Homem|      Parda| Superior incompleto|    2|    2|              2|                        2|            2|           2|    2|                           2|     2|            2|                       2|           2|                  6|                 44|             6|              2|           NULL|                             NULL|              NULL|\n",
            "|2020|  9|     4| Amapá|   38|Mulher|     Branca|       Pós-graduação|    2|    2|              2|                        2|            2|           2|    2|                           2|     2|            2|                       2|           2|                 20|                 40|             4|              2|           NULL|                             NULL|              NULL|\n",
            "|2020|  9|     4| Amapá|   42|Mulher|     Branca|      Médio completo|    2|    2|              2|                        2|            2|           2|    2|                           2|     2|            2|                       2|           2|               NULL|               NULL|          NULL|              1|              1|                                2|              NULL|\n",
            "|2020|  9|     3| Amapá|    7|Mulher|      Parda|Fundamental incom...|    2|    1|              1|                        2|            1|           2|    2|                           2|     2|            2|                       2|           2|               NULL|               NULL|          NULL|              1|              1|                             NULL|              NULL|\n",
            "|2020|  9|     3| Amapá|   40|Mulher|      Parda|      Médio completo|    2|    1|              2|                        2|            2|           2|    2|                           1|     2|            2|                       2|           1|               NULL|               NULL|          NULL|              1|              1|                                2|              NULL|\n",
            "|2020|  9|     1| Amapá|   35| Homem|      Parda|Fundamental incom...|    1|    1|              1|                        1|            2|           2|    2|                           2|     2|            2|                       1|           2|               NULL|               NULL|          NULL|              2|           NULL|                                2|              NULL|\n",
            "|2020|  9|     3| Amapá|   68| Homem|      Preta|   Superior completo|    2|    2|              2|                        2|            2|           2|    2|                           2|     2|            2|                       2|           2|               NULL|               NULL|          NULL|              2|           NULL|                                2|              NULL|\n",
            "+----+---+------+------+-----+------+-----------+--------------------+-----+-----+---------------+-------------------------+-------------+------------+-----+----------------------------+------+-------------+------------------------+------------+-------------------+-------------------+--------------+---------------+---------------+---------------------------------+------------------+\n",
            "only showing top 20 rows\n",
            "\n"
          ]
        }
      ]
    },
    {
      "cell_type": "code",
      "source": [
        "df = df.withColumn(\"febre\", col(\"febre\").cast(\"string\"))"
      ],
      "metadata": {
        "id": "UNqjkS5j0flE"
      },
      "execution_count": null,
      "outputs": []
    },
    {
      "cell_type": "code",
      "source": [
        "df = df.withColumn(\n",
        "    \"febre\",\n",
        "    when(col(\"febre\") == 1, \"Sim\")\n",
        "    .when(col(\"febre\") == 2, \"Não\")\n",
        "    .when(col(\"febre\") == 3, \"Não sabe\")\n",
        "    .otherwise(\"Desconhecido\")  # Opcional, para valores fora do esperado\n",
        ")"
      ],
      "metadata": {
        "id": "SSds01c20-tq"
      },
      "execution_count": null,
      "outputs": []
    },
    {
      "cell_type": "code",
      "source": [
        "df = df.withColumn(\"tosse\", col(\"tosse\").cast(\"string\"))"
      ],
      "metadata": {
        "id": "pG6lvTpJ1E1Y"
      },
      "execution_count": null,
      "outputs": []
    },
    {
      "cell_type": "code",
      "source": [
        "df = df.withColumn(\n",
        "    \"tosse\",\n",
        "     when(col(\"tosse\") == 1, \"Sim\")\n",
        "    .when(col(\"tosse\") == 2, \"Não\")\n",
        "    .when(col(\"tosse\") == 3, \"Não sabe\")\n",
        "    .otherwise(\"Desconhecido\")\n",
        ")\n",
        "df.show()"
      ],
      "metadata": {
        "id": "yIiGTzo61KQO",
        "colab": {
          "base_uri": "https://localhost:8080/"
        },
        "outputId": "1e5b7f3c-34a4-454c-d691-55425760f752"
      },
      "execution_count": null,
      "outputs": [
        {
          "output_type": "stream",
          "name": "stdout",
          "text": [
            "+----+---+------+------+-----+------+-----------+--------------------+-----+-----+---------------+-------------------------+-------------+------------+-----+----------------------------+------+-------------+------------------------+------------+-------------------+-------------------+--------------+---------------+---------------+---------------------------------+------------------+\n",
            "| ano|mes|semana|estado|idade|  sexo|cor_ou_raca|        escolaridade|febre|tosse|dor_de_garganta|dificuldade_para_respirar|dor_de_cabeca|dor_no_peito|nausa|nariz_entupido_ou_escorrendo|fadiga|dor_nos_olhos|perda_de_cheiro_ou_sabor|dor_muscular|atividade_profissao|semanas_trabalhadas|faixa_de_renda|teste_realizado|resultado_teste|temporariamente_afastado_trabalho|motivo_afastamento|\n",
            "+----+---+------+------+-----+------+-----------+--------------------+-----+-----+---------------+-------------------------+-------------+------------+-----+----------------------------+------+-------------+------------------------+------------+-------------------+-------------------+--------------+---------------+---------------+---------------------------------+------------------+\n",
            "|2020|  9|     1| Amapá|   47| Homem|      Parda| Superior incompleto|  Não|  Não|              2|                        2|            2|           2|    2|                           2|     2|            2|                       2|           2|                  4|                 40|             5|              2|           NULL|                             NULL|              NULL|\n",
            "|2020|  9|     4| Amapá|   20| Homem|     Branca|      Médio completo|  Não|  Não|              2|                        2|            2|           2|    2|                           2|     2|            2|                       2|           2|                  7|                 50|             4|              2|           NULL|                             NULL|              NULL|\n",
            "|2020|  9|     2| Amapá|   18|Mulher|     Branca|      Médio completo|  Não|  Não|              2|                        2|            2|           2|    2|                           2|     2|            2|                       2|           2|               NULL|               NULL|          NULL|              2|           NULL|                                2|              NULL|\n",
            "|2020|  9|     4| Amapá|   22| Homem|     Branca|      Médio completo|  Não|  Não|              2|                        2|            2|           2|    2|                           2|     2|            2|                       2|           2|               NULL|               NULL|          NULL|              2|           NULL|                                2|              NULL|\n",
            "|2020|  9|     4| Amapá|   64|Mulher|      Parda|Fundamental incom...|  Não|  Não|              2|                        2|            1|           2|    2|                           2|     2|            2|                       2|           2|                  6|                 50|             2|              2|           NULL|                             NULL|              NULL|\n",
            "|2020|  9|     3| Amapá|   19| Homem|      Parda| Superior incompleto|  Não|  Não|              2|                        2|            2|           2|    2|                           2|     2|            2|                       2|           2|               NULL|               NULL|          NULL|              2|           NULL|                                2|              NULL|\n",
            "|2020|  9|     3| Amapá|   33| Homem|     Branca|   Superior completo|  Não|  Não|              2|                        2|            2|           2|    2|                           2|     2|            2|                       2|           2|                  6|                 40|             4|              2|           NULL|                             NULL|              NULL|\n",
            "|2020|  9|     3| Amapá|   13|Mulher|      Parda|Fundamental incom...|  Não|  Não|              2|                        2|            2|           2|    2|                           2|     2|            2|                       2|           2|               NULL|               NULL|          NULL|              2|           NULL|                             NULL|              NULL|\n",
            "|2020|  9|     1| Amapá|   64| Homem|      Parda|Fundamental incom...|  Não|  Não|              2|                        2|            2|           2|    2|                           2|     2|            2|                       2|           2|                 18|                 30|             6|              2|           NULL|                                1|                 1|\n",
            "|2020|  9|     1| Amapá|   21|Mulher|      Parda|   Superior completo|  Não|  Não|              2|                        2|            2|           2|    2|                           2|     2|            2|                       2|           2|                 12|                 30|             4|              2|           NULL|                             NULL|              NULL|\n",
            "|2020|  9|     2| Amapá|   45|Mulher|      Parda|      Médio completo|  Sim|  Não|              2|                        2|            2|           1|    2|                           2|     2|            2|                       2|           1|               NULL|               NULL|          NULL|              2|           NULL|                                2|              NULL|\n",
            "|2020|  9|     2| Amapá|   61| Homem|      Parda|      Médio completo|  Não|  Não|              2|                        2|            2|           2|    2|                           2|     2|            2|                       2|           2|               NULL|               NULL|          NULL|              2|           NULL|                                2|              NULL|\n",
            "|2020|  9|     4| Amapá|   18| Homem|      Parda|    Médio incompleto|  Não|  Não|              2|                        2|            2|           2|    2|                           2|     2|            2|                       2|           2|               NULL|               NULL|          NULL|              2|           NULL|                                2|              NULL|\n",
            "|2020|  9|     4| Amapá|   41| Homem|      Parda| Superior incompleto|  Não|  Não|              2|                        2|            2|           2|    2|                           2|     2|            2|                       2|           2|                  6|                 44|             6|              2|           NULL|                             NULL|              NULL|\n",
            "|2020|  9|     4| Amapá|   38|Mulher|     Branca|       Pós-graduação|  Não|  Não|              2|                        2|            2|           2|    2|                           2|     2|            2|                       2|           2|                 20|                 40|             4|              2|           NULL|                             NULL|              NULL|\n",
            "|2020|  9|     4| Amapá|   42|Mulher|     Branca|      Médio completo|  Não|  Não|              2|                        2|            2|           2|    2|                           2|     2|            2|                       2|           2|               NULL|               NULL|          NULL|              1|              1|                                2|              NULL|\n",
            "|2020|  9|     3| Amapá|    7|Mulher|      Parda|Fundamental incom...|  Não|  Sim|              1|                        2|            1|           2|    2|                           2|     2|            2|                       2|           2|               NULL|               NULL|          NULL|              1|              1|                             NULL|              NULL|\n",
            "|2020|  9|     3| Amapá|   40|Mulher|      Parda|      Médio completo|  Não|  Sim|              2|                        2|            2|           2|    2|                           1|     2|            2|                       2|           1|               NULL|               NULL|          NULL|              1|              1|                                2|              NULL|\n",
            "|2020|  9|     1| Amapá|   35| Homem|      Parda|Fundamental incom...|  Sim|  Sim|              1|                        1|            2|           2|    2|                           2|     2|            2|                       1|           2|               NULL|               NULL|          NULL|              2|           NULL|                                2|              NULL|\n",
            "|2020|  9|     3| Amapá|   68| Homem|      Preta|   Superior completo|  Não|  Não|              2|                        2|            2|           2|    2|                           2|     2|            2|                       2|           2|               NULL|               NULL|          NULL|              2|           NULL|                                2|              NULL|\n",
            "+----+---+------+------+-----+------+-----------+--------------------+-----+-----+---------------+-------------------------+-------------+------------+-----+----------------------------+------+-------------+------------------------+------------+-------------------+-------------------+--------------+---------------+---------------+---------------------------------+------------------+\n",
            "only showing top 20 rows\n",
            "\n"
          ]
        }
      ]
    },
    {
      "cell_type": "code",
      "source": [
        "df = df.withColumn(\n",
        "    \"dor_de_garganta\",\n",
        "     when(col(\"dor_de_garganta\") == 1, \"Sim\")\n",
        "    .when(col(\"dor_de_garganta\") == 2, \"Não\")\n",
        "    .when(col(\"dor_de_garganta\") == 3, \"Não sabe\")\n",
        "    .otherwise(\"Desconhecido\")\n",
        ")\n",
        "df.show()"
      ],
      "metadata": {
        "id": "KZPTWa8X3IC1",
        "colab": {
          "base_uri": "https://localhost:8080/"
        },
        "outputId": "b7386aec-ba4c-4db3-e56e-fdfa8ca22a10"
      },
      "execution_count": null,
      "outputs": [
        {
          "output_type": "stream",
          "name": "stdout",
          "text": [
            "+----+---+------+------+-----+------+-----------+--------------------+-----+-----+---------------+-------------------------+-------------+------------+-----+----------------------------+------+-------------+------------------------+------------+-------------------+-------------------+--------------+---------------+---------------+---------------------------------+------------------+\n",
            "| ano|mes|semana|estado|idade|  sexo|cor_ou_raca|        escolaridade|febre|tosse|dor_de_garganta|dificuldade_para_respirar|dor_de_cabeca|dor_no_peito|nausa|nariz_entupido_ou_escorrendo|fadiga|dor_nos_olhos|perda_de_cheiro_ou_sabor|dor_muscular|atividade_profissao|semanas_trabalhadas|faixa_de_renda|teste_realizado|resultado_teste|temporariamente_afastado_trabalho|motivo_afastamento|\n",
            "+----+---+------+------+-----+------+-----------+--------------------+-----+-----+---------------+-------------------------+-------------+------------+-----+----------------------------+------+-------------+------------------------+------------+-------------------+-------------------+--------------+---------------+---------------+---------------------------------+------------------+\n",
            "|2020|  9|     1| Amapá|   47| Homem|      Parda| Superior incompleto|  Não|  Não|            Não|                        2|            2|           2|    2|                           2|     2|            2|                       2|           2|                  4|                 40|             5|              2|           NULL|                             NULL|              NULL|\n",
            "|2020|  9|     4| Amapá|   20| Homem|     Branca|      Médio completo|  Não|  Não|            Não|                        2|            2|           2|    2|                           2|     2|            2|                       2|           2|                  7|                 50|             4|              2|           NULL|                             NULL|              NULL|\n",
            "|2020|  9|     2| Amapá|   18|Mulher|     Branca|      Médio completo|  Não|  Não|            Não|                        2|            2|           2|    2|                           2|     2|            2|                       2|           2|               NULL|               NULL|          NULL|              2|           NULL|                                2|              NULL|\n",
            "|2020|  9|     4| Amapá|   22| Homem|     Branca|      Médio completo|  Não|  Não|            Não|                        2|            2|           2|    2|                           2|     2|            2|                       2|           2|               NULL|               NULL|          NULL|              2|           NULL|                                2|              NULL|\n",
            "|2020|  9|     4| Amapá|   64|Mulher|      Parda|Fundamental incom...|  Não|  Não|            Não|                        2|            1|           2|    2|                           2|     2|            2|                       2|           2|                  6|                 50|             2|              2|           NULL|                             NULL|              NULL|\n",
            "|2020|  9|     3| Amapá|   19| Homem|      Parda| Superior incompleto|  Não|  Não|            Não|                        2|            2|           2|    2|                           2|     2|            2|                       2|           2|               NULL|               NULL|          NULL|              2|           NULL|                                2|              NULL|\n",
            "|2020|  9|     3| Amapá|   33| Homem|     Branca|   Superior completo|  Não|  Não|            Não|                        2|            2|           2|    2|                           2|     2|            2|                       2|           2|                  6|                 40|             4|              2|           NULL|                             NULL|              NULL|\n",
            "|2020|  9|     3| Amapá|   13|Mulher|      Parda|Fundamental incom...|  Não|  Não|            Não|                        2|            2|           2|    2|                           2|     2|            2|                       2|           2|               NULL|               NULL|          NULL|              2|           NULL|                             NULL|              NULL|\n",
            "|2020|  9|     1| Amapá|   64| Homem|      Parda|Fundamental incom...|  Não|  Não|            Não|                        2|            2|           2|    2|                           2|     2|            2|                       2|           2|                 18|                 30|             6|              2|           NULL|                                1|                 1|\n",
            "|2020|  9|     1| Amapá|   21|Mulher|      Parda|   Superior completo|  Não|  Não|            Não|                        2|            2|           2|    2|                           2|     2|            2|                       2|           2|                 12|                 30|             4|              2|           NULL|                             NULL|              NULL|\n",
            "|2020|  9|     2| Amapá|   45|Mulher|      Parda|      Médio completo|  Sim|  Não|            Não|                        2|            2|           1|    2|                           2|     2|            2|                       2|           1|               NULL|               NULL|          NULL|              2|           NULL|                                2|              NULL|\n",
            "|2020|  9|     2| Amapá|   61| Homem|      Parda|      Médio completo|  Não|  Não|            Não|                        2|            2|           2|    2|                           2|     2|            2|                       2|           2|               NULL|               NULL|          NULL|              2|           NULL|                                2|              NULL|\n",
            "|2020|  9|     4| Amapá|   18| Homem|      Parda|    Médio incompleto|  Não|  Não|            Não|                        2|            2|           2|    2|                           2|     2|            2|                       2|           2|               NULL|               NULL|          NULL|              2|           NULL|                                2|              NULL|\n",
            "|2020|  9|     4| Amapá|   41| Homem|      Parda| Superior incompleto|  Não|  Não|            Não|                        2|            2|           2|    2|                           2|     2|            2|                       2|           2|                  6|                 44|             6|              2|           NULL|                             NULL|              NULL|\n",
            "|2020|  9|     4| Amapá|   38|Mulher|     Branca|       Pós-graduação|  Não|  Não|            Não|                        2|            2|           2|    2|                           2|     2|            2|                       2|           2|                 20|                 40|             4|              2|           NULL|                             NULL|              NULL|\n",
            "|2020|  9|     4| Amapá|   42|Mulher|     Branca|      Médio completo|  Não|  Não|            Não|                        2|            2|           2|    2|                           2|     2|            2|                       2|           2|               NULL|               NULL|          NULL|              1|              1|                                2|              NULL|\n",
            "|2020|  9|     3| Amapá|    7|Mulher|      Parda|Fundamental incom...|  Não|  Sim|            Sim|                        2|            1|           2|    2|                           2|     2|            2|                       2|           2|               NULL|               NULL|          NULL|              1|              1|                             NULL|              NULL|\n",
            "|2020|  9|     3| Amapá|   40|Mulher|      Parda|      Médio completo|  Não|  Sim|            Não|                        2|            2|           2|    2|                           1|     2|            2|                       2|           1|               NULL|               NULL|          NULL|              1|              1|                                2|              NULL|\n",
            "|2020|  9|     1| Amapá|   35| Homem|      Parda|Fundamental incom...|  Sim|  Sim|            Sim|                        1|            2|           2|    2|                           2|     2|            2|                       1|           2|               NULL|               NULL|          NULL|              2|           NULL|                                2|              NULL|\n",
            "|2020|  9|     3| Amapá|   68| Homem|      Preta|   Superior completo|  Não|  Não|            Não|                        2|            2|           2|    2|                           2|     2|            2|                       2|           2|               NULL|               NULL|          NULL|              2|           NULL|                                2|              NULL|\n",
            "+----+---+------+------+-----+------+-----------+--------------------+-----+-----+---------------+-------------------------+-------------+------------+-----+----------------------------+------+-------------+------------------------+------------+-------------------+-------------------+--------------+---------------+---------------+---------------------------------+------------------+\n",
            "only showing top 20 rows\n",
            "\n"
          ]
        }
      ]
    },
    {
      "cell_type": "code",
      "source": [
        "df = df.withColumn(\n",
        "    \"dificuldade_para_respirar\",\n",
        "     when(col(\"dificuldade_para_respirar\") == 1, \"Sim\")\n",
        "    .when(col(\"dificuldade_para_respirar\") == 2, \"Não\")\n",
        "    .when(col(\"dificuldade_para_respirar\") == 3, \"Não sabe\")\n",
        "    .otherwise(\"Desconhecido\")\n",
        ")\n",
        "df.show()"
      ],
      "metadata": {
        "id": "DcEw-QMK3P0t",
        "colab": {
          "base_uri": "https://localhost:8080/"
        },
        "outputId": "9d05b5b0-f56b-40f3-fde1-dc36ad6f0f33"
      },
      "execution_count": null,
      "outputs": [
        {
          "output_type": "stream",
          "name": "stdout",
          "text": [
            "+----+---+------+------+-----+------+-----------+--------------------+-----+-----+---------------+-------------------------+-------------+------------+-----+----------------------------+------+-------------+------------------------+------------+-------------------+-------------------+--------------+---------------+---------------+---------------------------------+------------------+\n",
            "| ano|mes|semana|estado|idade|  sexo|cor_ou_raca|        escolaridade|febre|tosse|dor_de_garganta|dificuldade_para_respirar|dor_de_cabeca|dor_no_peito|nausa|nariz_entupido_ou_escorrendo|fadiga|dor_nos_olhos|perda_de_cheiro_ou_sabor|dor_muscular|atividade_profissao|semanas_trabalhadas|faixa_de_renda|teste_realizado|resultado_teste|temporariamente_afastado_trabalho|motivo_afastamento|\n",
            "+----+---+------+------+-----+------+-----------+--------------------+-----+-----+---------------+-------------------------+-------------+------------+-----+----------------------------+------+-------------+------------------------+------------+-------------------+-------------------+--------------+---------------+---------------+---------------------------------+------------------+\n",
            "|2020|  9|     1| Amapá|   47| Homem|      Parda| Superior incompleto|  Não|  Não|            Não|                      Não|            2|           2|    2|                           2|     2|            2|                       2|           2|                  4|                 40|             5|              2|           NULL|                             NULL|              NULL|\n",
            "|2020|  9|     4| Amapá|   20| Homem|     Branca|      Médio completo|  Não|  Não|            Não|                      Não|            2|           2|    2|                           2|     2|            2|                       2|           2|                  7|                 50|             4|              2|           NULL|                             NULL|              NULL|\n",
            "|2020|  9|     2| Amapá|   18|Mulher|     Branca|      Médio completo|  Não|  Não|            Não|                      Não|            2|           2|    2|                           2|     2|            2|                       2|           2|               NULL|               NULL|          NULL|              2|           NULL|                                2|              NULL|\n",
            "|2020|  9|     4| Amapá|   22| Homem|     Branca|      Médio completo|  Não|  Não|            Não|                      Não|            2|           2|    2|                           2|     2|            2|                       2|           2|               NULL|               NULL|          NULL|              2|           NULL|                                2|              NULL|\n",
            "|2020|  9|     4| Amapá|   64|Mulher|      Parda|Fundamental incom...|  Não|  Não|            Não|                      Não|            1|           2|    2|                           2|     2|            2|                       2|           2|                  6|                 50|             2|              2|           NULL|                             NULL|              NULL|\n",
            "|2020|  9|     3| Amapá|   19| Homem|      Parda| Superior incompleto|  Não|  Não|            Não|                      Não|            2|           2|    2|                           2|     2|            2|                       2|           2|               NULL|               NULL|          NULL|              2|           NULL|                                2|              NULL|\n",
            "|2020|  9|     3| Amapá|   33| Homem|     Branca|   Superior completo|  Não|  Não|            Não|                      Não|            2|           2|    2|                           2|     2|            2|                       2|           2|                  6|                 40|             4|              2|           NULL|                             NULL|              NULL|\n",
            "|2020|  9|     3| Amapá|   13|Mulher|      Parda|Fundamental incom...|  Não|  Não|            Não|                      Não|            2|           2|    2|                           2|     2|            2|                       2|           2|               NULL|               NULL|          NULL|              2|           NULL|                             NULL|              NULL|\n",
            "|2020|  9|     1| Amapá|   64| Homem|      Parda|Fundamental incom...|  Não|  Não|            Não|                      Não|            2|           2|    2|                           2|     2|            2|                       2|           2|                 18|                 30|             6|              2|           NULL|                                1|                 1|\n",
            "|2020|  9|     1| Amapá|   21|Mulher|      Parda|   Superior completo|  Não|  Não|            Não|                      Não|            2|           2|    2|                           2|     2|            2|                       2|           2|                 12|                 30|             4|              2|           NULL|                             NULL|              NULL|\n",
            "|2020|  9|     2| Amapá|   45|Mulher|      Parda|      Médio completo|  Sim|  Não|            Não|                      Não|            2|           1|    2|                           2|     2|            2|                       2|           1|               NULL|               NULL|          NULL|              2|           NULL|                                2|              NULL|\n",
            "|2020|  9|     2| Amapá|   61| Homem|      Parda|      Médio completo|  Não|  Não|            Não|                      Não|            2|           2|    2|                           2|     2|            2|                       2|           2|               NULL|               NULL|          NULL|              2|           NULL|                                2|              NULL|\n",
            "|2020|  9|     4| Amapá|   18| Homem|      Parda|    Médio incompleto|  Não|  Não|            Não|                      Não|            2|           2|    2|                           2|     2|            2|                       2|           2|               NULL|               NULL|          NULL|              2|           NULL|                                2|              NULL|\n",
            "|2020|  9|     4| Amapá|   41| Homem|      Parda| Superior incompleto|  Não|  Não|            Não|                      Não|            2|           2|    2|                           2|     2|            2|                       2|           2|                  6|                 44|             6|              2|           NULL|                             NULL|              NULL|\n",
            "|2020|  9|     4| Amapá|   38|Mulher|     Branca|       Pós-graduação|  Não|  Não|            Não|                      Não|            2|           2|    2|                           2|     2|            2|                       2|           2|                 20|                 40|             4|              2|           NULL|                             NULL|              NULL|\n",
            "|2020|  9|     4| Amapá|   42|Mulher|     Branca|      Médio completo|  Não|  Não|            Não|                      Não|            2|           2|    2|                           2|     2|            2|                       2|           2|               NULL|               NULL|          NULL|              1|              1|                                2|              NULL|\n",
            "|2020|  9|     3| Amapá|    7|Mulher|      Parda|Fundamental incom...|  Não|  Sim|            Sim|                      Não|            1|           2|    2|                           2|     2|            2|                       2|           2|               NULL|               NULL|          NULL|              1|              1|                             NULL|              NULL|\n",
            "|2020|  9|     3| Amapá|   40|Mulher|      Parda|      Médio completo|  Não|  Sim|            Não|                      Não|            2|           2|    2|                           1|     2|            2|                       2|           1|               NULL|               NULL|          NULL|              1|              1|                                2|              NULL|\n",
            "|2020|  9|     1| Amapá|   35| Homem|      Parda|Fundamental incom...|  Sim|  Sim|            Sim|                      Sim|            2|           2|    2|                           2|     2|            2|                       1|           2|               NULL|               NULL|          NULL|              2|           NULL|                                2|              NULL|\n",
            "|2020|  9|     3| Amapá|   68| Homem|      Preta|   Superior completo|  Não|  Não|            Não|                      Não|            2|           2|    2|                           2|     2|            2|                       2|           2|               NULL|               NULL|          NULL|              2|           NULL|                                2|              NULL|\n",
            "+----+---+------+------+-----+------+-----------+--------------------+-----+-----+---------------+-------------------------+-------------+------------+-----+----------------------------+------+-------------+------------------------+------------+-------------------+-------------------+--------------+---------------+---------------+---------------------------------+------------------+\n",
            "only showing top 20 rows\n",
            "\n"
          ]
        }
      ]
    },
    {
      "cell_type": "code",
      "source": [
        "df = df.withColumn(\n",
        "    \"dor_de_cabeca\",\n",
        "     when(col(\"dor_de_cabeca\") == 1, \"Sim\")\n",
        "    .when(col(\"dor_de_cabeca\") == 2, \"Não\")\n",
        "    .when(col(\"dor_de_cabeca\") == 3, \"Não sabe\")\n",
        "    .otherwise(\"Desconhecido\")\n",
        ")\n",
        "df.show()"
      ],
      "metadata": {
        "id": "PrkLkBin3T8k",
        "colab": {
          "base_uri": "https://localhost:8080/"
        },
        "outputId": "65155c37-0a44-4073-eab7-6d37f02b3dd3"
      },
      "execution_count": null,
      "outputs": [
        {
          "output_type": "stream",
          "name": "stdout",
          "text": [
            "+----+---+------+------+-----+------+-----------+--------------------+-----+-----+---------------+-------------------------+-------------+------------+-----+----------------------------+------+-------------+------------------------+------------+-------------------+-------------------+--------------+---------------+---------------+---------------------------------+------------------+\n",
            "| ano|mes|semana|estado|idade|  sexo|cor_ou_raca|        escolaridade|febre|tosse|dor_de_garganta|dificuldade_para_respirar|dor_de_cabeca|dor_no_peito|nausa|nariz_entupido_ou_escorrendo|fadiga|dor_nos_olhos|perda_de_cheiro_ou_sabor|dor_muscular|atividade_profissao|semanas_trabalhadas|faixa_de_renda|teste_realizado|resultado_teste|temporariamente_afastado_trabalho|motivo_afastamento|\n",
            "+----+---+------+------+-----+------+-----------+--------------------+-----+-----+---------------+-------------------------+-------------+------------+-----+----------------------------+------+-------------+------------------------+------------+-------------------+-------------------+--------------+---------------+---------------+---------------------------------+------------------+\n",
            "|2020|  9|     1| Amapá|   47| Homem|      Parda| Superior incompleto|  Não|  Não|            Não|                      Não|          Não|           2|    2|                           2|     2|            2|                       2|           2|                  4|                 40|             5|              2|           NULL|                             NULL|              NULL|\n",
            "|2020|  9|     4| Amapá|   20| Homem|     Branca|      Médio completo|  Não|  Não|            Não|                      Não|          Não|           2|    2|                           2|     2|            2|                       2|           2|                  7|                 50|             4|              2|           NULL|                             NULL|              NULL|\n",
            "|2020|  9|     2| Amapá|   18|Mulher|     Branca|      Médio completo|  Não|  Não|            Não|                      Não|          Não|           2|    2|                           2|     2|            2|                       2|           2|               NULL|               NULL|          NULL|              2|           NULL|                                2|              NULL|\n",
            "|2020|  9|     4| Amapá|   22| Homem|     Branca|      Médio completo|  Não|  Não|            Não|                      Não|          Não|           2|    2|                           2|     2|            2|                       2|           2|               NULL|               NULL|          NULL|              2|           NULL|                                2|              NULL|\n",
            "|2020|  9|     4| Amapá|   64|Mulher|      Parda|Fundamental incom...|  Não|  Não|            Não|                      Não|          Sim|           2|    2|                           2|     2|            2|                       2|           2|                  6|                 50|             2|              2|           NULL|                             NULL|              NULL|\n",
            "|2020|  9|     3| Amapá|   19| Homem|      Parda| Superior incompleto|  Não|  Não|            Não|                      Não|          Não|           2|    2|                           2|     2|            2|                       2|           2|               NULL|               NULL|          NULL|              2|           NULL|                                2|              NULL|\n",
            "|2020|  9|     3| Amapá|   33| Homem|     Branca|   Superior completo|  Não|  Não|            Não|                      Não|          Não|           2|    2|                           2|     2|            2|                       2|           2|                  6|                 40|             4|              2|           NULL|                             NULL|              NULL|\n",
            "|2020|  9|     3| Amapá|   13|Mulher|      Parda|Fundamental incom...|  Não|  Não|            Não|                      Não|          Não|           2|    2|                           2|     2|            2|                       2|           2|               NULL|               NULL|          NULL|              2|           NULL|                             NULL|              NULL|\n",
            "|2020|  9|     1| Amapá|   64| Homem|      Parda|Fundamental incom...|  Não|  Não|            Não|                      Não|          Não|           2|    2|                           2|     2|            2|                       2|           2|                 18|                 30|             6|              2|           NULL|                                1|                 1|\n",
            "|2020|  9|     1| Amapá|   21|Mulher|      Parda|   Superior completo|  Não|  Não|            Não|                      Não|          Não|           2|    2|                           2|     2|            2|                       2|           2|                 12|                 30|             4|              2|           NULL|                             NULL|              NULL|\n",
            "|2020|  9|     2| Amapá|   45|Mulher|      Parda|      Médio completo|  Sim|  Não|            Não|                      Não|          Não|           1|    2|                           2|     2|            2|                       2|           1|               NULL|               NULL|          NULL|              2|           NULL|                                2|              NULL|\n",
            "|2020|  9|     2| Amapá|   61| Homem|      Parda|      Médio completo|  Não|  Não|            Não|                      Não|          Não|           2|    2|                           2|     2|            2|                       2|           2|               NULL|               NULL|          NULL|              2|           NULL|                                2|              NULL|\n",
            "|2020|  9|     4| Amapá|   18| Homem|      Parda|    Médio incompleto|  Não|  Não|            Não|                      Não|          Não|           2|    2|                           2|     2|            2|                       2|           2|               NULL|               NULL|          NULL|              2|           NULL|                                2|              NULL|\n",
            "|2020|  9|     4| Amapá|   41| Homem|      Parda| Superior incompleto|  Não|  Não|            Não|                      Não|          Não|           2|    2|                           2|     2|            2|                       2|           2|                  6|                 44|             6|              2|           NULL|                             NULL|              NULL|\n",
            "|2020|  9|     4| Amapá|   38|Mulher|     Branca|       Pós-graduação|  Não|  Não|            Não|                      Não|          Não|           2|    2|                           2|     2|            2|                       2|           2|                 20|                 40|             4|              2|           NULL|                             NULL|              NULL|\n",
            "|2020|  9|     4| Amapá|   42|Mulher|     Branca|      Médio completo|  Não|  Não|            Não|                      Não|          Não|           2|    2|                           2|     2|            2|                       2|           2|               NULL|               NULL|          NULL|              1|              1|                                2|              NULL|\n",
            "|2020|  9|     3| Amapá|    7|Mulher|      Parda|Fundamental incom...|  Não|  Sim|            Sim|                      Não|          Sim|           2|    2|                           2|     2|            2|                       2|           2|               NULL|               NULL|          NULL|              1|              1|                             NULL|              NULL|\n",
            "|2020|  9|     3| Amapá|   40|Mulher|      Parda|      Médio completo|  Não|  Sim|            Não|                      Não|          Não|           2|    2|                           1|     2|            2|                       2|           1|               NULL|               NULL|          NULL|              1|              1|                                2|              NULL|\n",
            "|2020|  9|     1| Amapá|   35| Homem|      Parda|Fundamental incom...|  Sim|  Sim|            Sim|                      Sim|          Não|           2|    2|                           2|     2|            2|                       1|           2|               NULL|               NULL|          NULL|              2|           NULL|                                2|              NULL|\n",
            "|2020|  9|     3| Amapá|   68| Homem|      Preta|   Superior completo|  Não|  Não|            Não|                      Não|          Não|           2|    2|                           2|     2|            2|                       2|           2|               NULL|               NULL|          NULL|              2|           NULL|                                2|              NULL|\n",
            "+----+---+------+------+-----+------+-----------+--------------------+-----+-----+---------------+-------------------------+-------------+------------+-----+----------------------------+------+-------------+------------------------+------------+-------------------+-------------------+--------------+---------------+---------------+---------------------------------+------------------+\n",
            "only showing top 20 rows\n",
            "\n"
          ]
        }
      ]
    },
    {
      "cell_type": "code",
      "source": [
        "df = df.withColumn(\n",
        "    \"dor_no_peito\",\n",
        "     when(col(\"dor_no_peito\") == 1, \"Sim\")\n",
        "    .when(col(\"dor_no_peito\") == 2, \"Não\")\n",
        "    .when(col(\"dor_no_peito\") == 3, \"Não sabe\")\n",
        "    .otherwise(\"Desconhecido\")\n",
        ")\n",
        "df.show()"
      ],
      "metadata": {
        "id": "OBREy2rU3Uss",
        "colab": {
          "base_uri": "https://localhost:8080/"
        },
        "outputId": "d6b68ac5-c57c-4d92-8957-ade7892da1ae"
      },
      "execution_count": null,
      "outputs": [
        {
          "output_type": "stream",
          "name": "stdout",
          "text": [
            "+----+---+------+------+-----+------+-----------+--------------------+-----+-----+---------------+-------------------------+-------------+------------+-----+----------------------------+------+-------------+------------------------+------------+-------------------+-------------------+--------------+---------------+---------------+---------------------------------+------------------+\n",
            "| ano|mes|semana|estado|idade|  sexo|cor_ou_raca|        escolaridade|febre|tosse|dor_de_garganta|dificuldade_para_respirar|dor_de_cabeca|dor_no_peito|nausa|nariz_entupido_ou_escorrendo|fadiga|dor_nos_olhos|perda_de_cheiro_ou_sabor|dor_muscular|atividade_profissao|semanas_trabalhadas|faixa_de_renda|teste_realizado|resultado_teste|temporariamente_afastado_trabalho|motivo_afastamento|\n",
            "+----+---+------+------+-----+------+-----------+--------------------+-----+-----+---------------+-------------------------+-------------+------------+-----+----------------------------+------+-------------+------------------------+------------+-------------------+-------------------+--------------+---------------+---------------+---------------------------------+------------------+\n",
            "|2020|  9|     1| Amapá|   47| Homem|      Parda| Superior incompleto|  Não|  Não|            Não|                      Não|          Não|         Não|    2|                           2|     2|            2|                       2|           2|                  4|                 40|             5|              2|           NULL|                             NULL|              NULL|\n",
            "|2020|  9|     4| Amapá|   20| Homem|     Branca|      Médio completo|  Não|  Não|            Não|                      Não|          Não|         Não|    2|                           2|     2|            2|                       2|           2|                  7|                 50|             4|              2|           NULL|                             NULL|              NULL|\n",
            "|2020|  9|     2| Amapá|   18|Mulher|     Branca|      Médio completo|  Não|  Não|            Não|                      Não|          Não|         Não|    2|                           2|     2|            2|                       2|           2|               NULL|               NULL|          NULL|              2|           NULL|                                2|              NULL|\n",
            "|2020|  9|     4| Amapá|   22| Homem|     Branca|      Médio completo|  Não|  Não|            Não|                      Não|          Não|         Não|    2|                           2|     2|            2|                       2|           2|               NULL|               NULL|          NULL|              2|           NULL|                                2|              NULL|\n",
            "|2020|  9|     4| Amapá|   64|Mulher|      Parda|Fundamental incom...|  Não|  Não|            Não|                      Não|          Sim|         Não|    2|                           2|     2|            2|                       2|           2|                  6|                 50|             2|              2|           NULL|                             NULL|              NULL|\n",
            "|2020|  9|     3| Amapá|   19| Homem|      Parda| Superior incompleto|  Não|  Não|            Não|                      Não|          Não|         Não|    2|                           2|     2|            2|                       2|           2|               NULL|               NULL|          NULL|              2|           NULL|                                2|              NULL|\n",
            "|2020|  9|     3| Amapá|   33| Homem|     Branca|   Superior completo|  Não|  Não|            Não|                      Não|          Não|         Não|    2|                           2|     2|            2|                       2|           2|                  6|                 40|             4|              2|           NULL|                             NULL|              NULL|\n",
            "|2020|  9|     3| Amapá|   13|Mulher|      Parda|Fundamental incom...|  Não|  Não|            Não|                      Não|          Não|         Não|    2|                           2|     2|            2|                       2|           2|               NULL|               NULL|          NULL|              2|           NULL|                             NULL|              NULL|\n",
            "|2020|  9|     1| Amapá|   64| Homem|      Parda|Fundamental incom...|  Não|  Não|            Não|                      Não|          Não|         Não|    2|                           2|     2|            2|                       2|           2|                 18|                 30|             6|              2|           NULL|                                1|                 1|\n",
            "|2020|  9|     1| Amapá|   21|Mulher|      Parda|   Superior completo|  Não|  Não|            Não|                      Não|          Não|         Não|    2|                           2|     2|            2|                       2|           2|                 12|                 30|             4|              2|           NULL|                             NULL|              NULL|\n",
            "|2020|  9|     2| Amapá|   45|Mulher|      Parda|      Médio completo|  Sim|  Não|            Não|                      Não|          Não|         Sim|    2|                           2|     2|            2|                       2|           1|               NULL|               NULL|          NULL|              2|           NULL|                                2|              NULL|\n",
            "|2020|  9|     2| Amapá|   61| Homem|      Parda|      Médio completo|  Não|  Não|            Não|                      Não|          Não|         Não|    2|                           2|     2|            2|                       2|           2|               NULL|               NULL|          NULL|              2|           NULL|                                2|              NULL|\n",
            "|2020|  9|     4| Amapá|   18| Homem|      Parda|    Médio incompleto|  Não|  Não|            Não|                      Não|          Não|         Não|    2|                           2|     2|            2|                       2|           2|               NULL|               NULL|          NULL|              2|           NULL|                                2|              NULL|\n",
            "|2020|  9|     4| Amapá|   41| Homem|      Parda| Superior incompleto|  Não|  Não|            Não|                      Não|          Não|         Não|    2|                           2|     2|            2|                       2|           2|                  6|                 44|             6|              2|           NULL|                             NULL|              NULL|\n",
            "|2020|  9|     4| Amapá|   38|Mulher|     Branca|       Pós-graduação|  Não|  Não|            Não|                      Não|          Não|         Não|    2|                           2|     2|            2|                       2|           2|                 20|                 40|             4|              2|           NULL|                             NULL|              NULL|\n",
            "|2020|  9|     4| Amapá|   42|Mulher|     Branca|      Médio completo|  Não|  Não|            Não|                      Não|          Não|         Não|    2|                           2|     2|            2|                       2|           2|               NULL|               NULL|          NULL|              1|              1|                                2|              NULL|\n",
            "|2020|  9|     3| Amapá|    7|Mulher|      Parda|Fundamental incom...|  Não|  Sim|            Sim|                      Não|          Sim|         Não|    2|                           2|     2|            2|                       2|           2|               NULL|               NULL|          NULL|              1|              1|                             NULL|              NULL|\n",
            "|2020|  9|     3| Amapá|   40|Mulher|      Parda|      Médio completo|  Não|  Sim|            Não|                      Não|          Não|         Não|    2|                           1|     2|            2|                       2|           1|               NULL|               NULL|          NULL|              1|              1|                                2|              NULL|\n",
            "|2020|  9|     1| Amapá|   35| Homem|      Parda|Fundamental incom...|  Sim|  Sim|            Sim|                      Sim|          Não|         Não|    2|                           2|     2|            2|                       1|           2|               NULL|               NULL|          NULL|              2|           NULL|                                2|              NULL|\n",
            "|2020|  9|     3| Amapá|   68| Homem|      Preta|   Superior completo|  Não|  Não|            Não|                      Não|          Não|         Não|    2|                           2|     2|            2|                       2|           2|               NULL|               NULL|          NULL|              2|           NULL|                                2|              NULL|\n",
            "+----+---+------+------+-----+------+-----------+--------------------+-----+-----+---------------+-------------------------+-------------+------------+-----+----------------------------+------+-------------+------------------------+------------+-------------------+-------------------+--------------+---------------+---------------+---------------------------------+------------------+\n",
            "only showing top 20 rows\n",
            "\n"
          ]
        }
      ]
    },
    {
      "cell_type": "code",
      "source": [
        "df = df.withColumn(\n",
        "    \"nausa\",\n",
        "     when(col(\"nausa\") == 1, \"Sim\")\n",
        "    .when(col(\"nausa\") == 2, \"Não\")\n",
        "    .when(col(\"nausa\") == 3, \"Não sabe\")\n",
        "    .otherwise(\"Desconhecido\")\n",
        ")\n",
        "df.show()"
      ],
      "metadata": {
        "id": "Jc2C4WF03gNe",
        "colab": {
          "base_uri": "https://localhost:8080/"
        },
        "outputId": "83bb33fb-8fdc-4ed1-d43c-cecac8260b0e"
      },
      "execution_count": null,
      "outputs": [
        {
          "output_type": "stream",
          "name": "stdout",
          "text": [
            "+----+---+------+------+-----+------+-----------+--------------------+-----+-----+---------------+-------------------------+-------------+------------+-----+----------------------------+------+-------------+------------------------+------------+-------------------+-------------------+--------------+---------------+---------------+---------------------------------+------------------+\n",
            "| ano|mes|semana|estado|idade|  sexo|cor_ou_raca|        escolaridade|febre|tosse|dor_de_garganta|dificuldade_para_respirar|dor_de_cabeca|dor_no_peito|nausa|nariz_entupido_ou_escorrendo|fadiga|dor_nos_olhos|perda_de_cheiro_ou_sabor|dor_muscular|atividade_profissao|semanas_trabalhadas|faixa_de_renda|teste_realizado|resultado_teste|temporariamente_afastado_trabalho|motivo_afastamento|\n",
            "+----+---+------+------+-----+------+-----------+--------------------+-----+-----+---------------+-------------------------+-------------+------------+-----+----------------------------+------+-------------+------------------------+------------+-------------------+-------------------+--------------+---------------+---------------+---------------------------------+------------------+\n",
            "|2020|  9|     1| Amapá|   47| Homem|      Parda| Superior incompleto|  Não|  Não|            Não|                      Não|          Não|         Não|  Não|                           2|     2|            2|                       2|           2|                  4|                 40|             5|              2|           NULL|                             NULL|              NULL|\n",
            "|2020|  9|     4| Amapá|   20| Homem|     Branca|      Médio completo|  Não|  Não|            Não|                      Não|          Não|         Não|  Não|                           2|     2|            2|                       2|           2|                  7|                 50|             4|              2|           NULL|                             NULL|              NULL|\n",
            "|2020|  9|     2| Amapá|   18|Mulher|     Branca|      Médio completo|  Não|  Não|            Não|                      Não|          Não|         Não|  Não|                           2|     2|            2|                       2|           2|               NULL|               NULL|          NULL|              2|           NULL|                                2|              NULL|\n",
            "|2020|  9|     4| Amapá|   22| Homem|     Branca|      Médio completo|  Não|  Não|            Não|                      Não|          Não|         Não|  Não|                           2|     2|            2|                       2|           2|               NULL|               NULL|          NULL|              2|           NULL|                                2|              NULL|\n",
            "|2020|  9|     4| Amapá|   64|Mulher|      Parda|Fundamental incom...|  Não|  Não|            Não|                      Não|          Sim|         Não|  Não|                           2|     2|            2|                       2|           2|                  6|                 50|             2|              2|           NULL|                             NULL|              NULL|\n",
            "|2020|  9|     3| Amapá|   19| Homem|      Parda| Superior incompleto|  Não|  Não|            Não|                      Não|          Não|         Não|  Não|                           2|     2|            2|                       2|           2|               NULL|               NULL|          NULL|              2|           NULL|                                2|              NULL|\n",
            "|2020|  9|     3| Amapá|   33| Homem|     Branca|   Superior completo|  Não|  Não|            Não|                      Não|          Não|         Não|  Não|                           2|     2|            2|                       2|           2|                  6|                 40|             4|              2|           NULL|                             NULL|              NULL|\n",
            "|2020|  9|     3| Amapá|   13|Mulher|      Parda|Fundamental incom...|  Não|  Não|            Não|                      Não|          Não|         Não|  Não|                           2|     2|            2|                       2|           2|               NULL|               NULL|          NULL|              2|           NULL|                             NULL|              NULL|\n",
            "|2020|  9|     1| Amapá|   64| Homem|      Parda|Fundamental incom...|  Não|  Não|            Não|                      Não|          Não|         Não|  Não|                           2|     2|            2|                       2|           2|                 18|                 30|             6|              2|           NULL|                                1|                 1|\n",
            "|2020|  9|     1| Amapá|   21|Mulher|      Parda|   Superior completo|  Não|  Não|            Não|                      Não|          Não|         Não|  Não|                           2|     2|            2|                       2|           2|                 12|                 30|             4|              2|           NULL|                             NULL|              NULL|\n",
            "|2020|  9|     2| Amapá|   45|Mulher|      Parda|      Médio completo|  Sim|  Não|            Não|                      Não|          Não|         Sim|  Não|                           2|     2|            2|                       2|           1|               NULL|               NULL|          NULL|              2|           NULL|                                2|              NULL|\n",
            "|2020|  9|     2| Amapá|   61| Homem|      Parda|      Médio completo|  Não|  Não|            Não|                      Não|          Não|         Não|  Não|                           2|     2|            2|                       2|           2|               NULL|               NULL|          NULL|              2|           NULL|                                2|              NULL|\n",
            "|2020|  9|     4| Amapá|   18| Homem|      Parda|    Médio incompleto|  Não|  Não|            Não|                      Não|          Não|         Não|  Não|                           2|     2|            2|                       2|           2|               NULL|               NULL|          NULL|              2|           NULL|                                2|              NULL|\n",
            "|2020|  9|     4| Amapá|   41| Homem|      Parda| Superior incompleto|  Não|  Não|            Não|                      Não|          Não|         Não|  Não|                           2|     2|            2|                       2|           2|                  6|                 44|             6|              2|           NULL|                             NULL|              NULL|\n",
            "|2020|  9|     4| Amapá|   38|Mulher|     Branca|       Pós-graduação|  Não|  Não|            Não|                      Não|          Não|         Não|  Não|                           2|     2|            2|                       2|           2|                 20|                 40|             4|              2|           NULL|                             NULL|              NULL|\n",
            "|2020|  9|     4| Amapá|   42|Mulher|     Branca|      Médio completo|  Não|  Não|            Não|                      Não|          Não|         Não|  Não|                           2|     2|            2|                       2|           2|               NULL|               NULL|          NULL|              1|              1|                                2|              NULL|\n",
            "|2020|  9|     3| Amapá|    7|Mulher|      Parda|Fundamental incom...|  Não|  Sim|            Sim|                      Não|          Sim|         Não|  Não|                           2|     2|            2|                       2|           2|               NULL|               NULL|          NULL|              1|              1|                             NULL|              NULL|\n",
            "|2020|  9|     3| Amapá|   40|Mulher|      Parda|      Médio completo|  Não|  Sim|            Não|                      Não|          Não|         Não|  Não|                           1|     2|            2|                       2|           1|               NULL|               NULL|          NULL|              1|              1|                                2|              NULL|\n",
            "|2020|  9|     1| Amapá|   35| Homem|      Parda|Fundamental incom...|  Sim|  Sim|            Sim|                      Sim|          Não|         Não|  Não|                           2|     2|            2|                       1|           2|               NULL|               NULL|          NULL|              2|           NULL|                                2|              NULL|\n",
            "|2020|  9|     3| Amapá|   68| Homem|      Preta|   Superior completo|  Não|  Não|            Não|                      Não|          Não|         Não|  Não|                           2|     2|            2|                       2|           2|               NULL|               NULL|          NULL|              2|           NULL|                                2|              NULL|\n",
            "+----+---+------+------+-----+------+-----------+--------------------+-----+-----+---------------+-------------------------+-------------+------------+-----+----------------------------+------+-------------+------------------------+------------+-------------------+-------------------+--------------+---------------+---------------+---------------------------------+------------------+\n",
            "only showing top 20 rows\n",
            "\n"
          ]
        }
      ]
    },
    {
      "cell_type": "code",
      "source": [
        "df = df.withColumn(\n",
        "    \"nariz_entupido_ou_escorrendo\",\n",
        "     when(col(\"nariz_entupido_ou_escorrendo\") == 1, \"Sim\")\n",
        "    .when(col(\"nariz_entupido_ou_escorrendo\") == 2, \"Não\")\n",
        "    .when(col(\"nariz_entupido_ou_escorrendo\") == 3, \"Não sabe\")\n",
        "    .otherwise(\"Desconhecido\")\n",
        ")\n",
        "df.show()"
      ],
      "metadata": {
        "id": "LOOJHIGu3j-q",
        "colab": {
          "base_uri": "https://localhost:8080/"
        },
        "outputId": "6b5fcb1b-6e6d-4cd8-fe0c-0761064d7cd7"
      },
      "execution_count": null,
      "outputs": [
        {
          "output_type": "stream",
          "name": "stdout",
          "text": [
            "+----+---+------+------+-----+------+-----------+--------------------+-----+-----+---------------+-------------------------+-------------+------------+-----+----------------------------+------+-------------+------------------------+------------+-------------------+-------------------+--------------+---------------+---------------+---------------------------------+------------------+\n",
            "| ano|mes|semana|estado|idade|  sexo|cor_ou_raca|        escolaridade|febre|tosse|dor_de_garganta|dificuldade_para_respirar|dor_de_cabeca|dor_no_peito|nausa|nariz_entupido_ou_escorrendo|fadiga|dor_nos_olhos|perda_de_cheiro_ou_sabor|dor_muscular|atividade_profissao|semanas_trabalhadas|faixa_de_renda|teste_realizado|resultado_teste|temporariamente_afastado_trabalho|motivo_afastamento|\n",
            "+----+---+------+------+-----+------+-----------+--------------------+-----+-----+---------------+-------------------------+-------------+------------+-----+----------------------------+------+-------------+------------------------+------------+-------------------+-------------------+--------------+---------------+---------------+---------------------------------+------------------+\n",
            "|2020|  9|     1| Amapá|   47| Homem|      Parda| Superior incompleto|  Não|  Não|            Não|                      Não|          Não|         Não|  Não|                         Não|     2|            2|                       2|           2|                  4|                 40|             5|              2|           NULL|                             NULL|              NULL|\n",
            "|2020|  9|     4| Amapá|   20| Homem|     Branca|      Médio completo|  Não|  Não|            Não|                      Não|          Não|         Não|  Não|                         Não|     2|            2|                       2|           2|                  7|                 50|             4|              2|           NULL|                             NULL|              NULL|\n",
            "|2020|  9|     2| Amapá|   18|Mulher|     Branca|      Médio completo|  Não|  Não|            Não|                      Não|          Não|         Não|  Não|                         Não|     2|            2|                       2|           2|               NULL|               NULL|          NULL|              2|           NULL|                                2|              NULL|\n",
            "|2020|  9|     4| Amapá|   22| Homem|     Branca|      Médio completo|  Não|  Não|            Não|                      Não|          Não|         Não|  Não|                         Não|     2|            2|                       2|           2|               NULL|               NULL|          NULL|              2|           NULL|                                2|              NULL|\n",
            "|2020|  9|     4| Amapá|   64|Mulher|      Parda|Fundamental incom...|  Não|  Não|            Não|                      Não|          Sim|         Não|  Não|                         Não|     2|            2|                       2|           2|                  6|                 50|             2|              2|           NULL|                             NULL|              NULL|\n",
            "|2020|  9|     3| Amapá|   19| Homem|      Parda| Superior incompleto|  Não|  Não|            Não|                      Não|          Não|         Não|  Não|                         Não|     2|            2|                       2|           2|               NULL|               NULL|          NULL|              2|           NULL|                                2|              NULL|\n",
            "|2020|  9|     3| Amapá|   33| Homem|     Branca|   Superior completo|  Não|  Não|            Não|                      Não|          Não|         Não|  Não|                         Não|     2|            2|                       2|           2|                  6|                 40|             4|              2|           NULL|                             NULL|              NULL|\n",
            "|2020|  9|     3| Amapá|   13|Mulher|      Parda|Fundamental incom...|  Não|  Não|            Não|                      Não|          Não|         Não|  Não|                         Não|     2|            2|                       2|           2|               NULL|               NULL|          NULL|              2|           NULL|                             NULL|              NULL|\n",
            "|2020|  9|     1| Amapá|   64| Homem|      Parda|Fundamental incom...|  Não|  Não|            Não|                      Não|          Não|         Não|  Não|                         Não|     2|            2|                       2|           2|                 18|                 30|             6|              2|           NULL|                                1|                 1|\n",
            "|2020|  9|     1| Amapá|   21|Mulher|      Parda|   Superior completo|  Não|  Não|            Não|                      Não|          Não|         Não|  Não|                         Não|     2|            2|                       2|           2|                 12|                 30|             4|              2|           NULL|                             NULL|              NULL|\n",
            "|2020|  9|     2| Amapá|   45|Mulher|      Parda|      Médio completo|  Sim|  Não|            Não|                      Não|          Não|         Sim|  Não|                         Não|     2|            2|                       2|           1|               NULL|               NULL|          NULL|              2|           NULL|                                2|              NULL|\n",
            "|2020|  9|     2| Amapá|   61| Homem|      Parda|      Médio completo|  Não|  Não|            Não|                      Não|          Não|         Não|  Não|                         Não|     2|            2|                       2|           2|               NULL|               NULL|          NULL|              2|           NULL|                                2|              NULL|\n",
            "|2020|  9|     4| Amapá|   18| Homem|      Parda|    Médio incompleto|  Não|  Não|            Não|                      Não|          Não|         Não|  Não|                         Não|     2|            2|                       2|           2|               NULL|               NULL|          NULL|              2|           NULL|                                2|              NULL|\n",
            "|2020|  9|     4| Amapá|   41| Homem|      Parda| Superior incompleto|  Não|  Não|            Não|                      Não|          Não|         Não|  Não|                         Não|     2|            2|                       2|           2|                  6|                 44|             6|              2|           NULL|                             NULL|              NULL|\n",
            "|2020|  9|     4| Amapá|   38|Mulher|     Branca|       Pós-graduação|  Não|  Não|            Não|                      Não|          Não|         Não|  Não|                         Não|     2|            2|                       2|           2|                 20|                 40|             4|              2|           NULL|                             NULL|              NULL|\n",
            "|2020|  9|     4| Amapá|   42|Mulher|     Branca|      Médio completo|  Não|  Não|            Não|                      Não|          Não|         Não|  Não|                         Não|     2|            2|                       2|           2|               NULL|               NULL|          NULL|              1|              1|                                2|              NULL|\n",
            "|2020|  9|     3| Amapá|    7|Mulher|      Parda|Fundamental incom...|  Não|  Sim|            Sim|                      Não|          Sim|         Não|  Não|                         Não|     2|            2|                       2|           2|               NULL|               NULL|          NULL|              1|              1|                             NULL|              NULL|\n",
            "|2020|  9|     3| Amapá|   40|Mulher|      Parda|      Médio completo|  Não|  Sim|            Não|                      Não|          Não|         Não|  Não|                         Sim|     2|            2|                       2|           1|               NULL|               NULL|          NULL|              1|              1|                                2|              NULL|\n",
            "|2020|  9|     1| Amapá|   35| Homem|      Parda|Fundamental incom...|  Sim|  Sim|            Sim|                      Sim|          Não|         Não|  Não|                         Não|     2|            2|                       1|           2|               NULL|               NULL|          NULL|              2|           NULL|                                2|              NULL|\n",
            "|2020|  9|     3| Amapá|   68| Homem|      Preta|   Superior completo|  Não|  Não|            Não|                      Não|          Não|         Não|  Não|                         Não|     2|            2|                       2|           2|               NULL|               NULL|          NULL|              2|           NULL|                                2|              NULL|\n",
            "+----+---+------+------+-----+------+-----------+--------------------+-----+-----+---------------+-------------------------+-------------+------------+-----+----------------------------+------+-------------+------------------------+------------+-------------------+-------------------+--------------+---------------+---------------+---------------------------------+------------------+\n",
            "only showing top 20 rows\n",
            "\n"
          ]
        }
      ]
    },
    {
      "cell_type": "code",
      "source": [
        "df = df.withColumn(\n",
        "    \"fadiga\",\n",
        "     when(col(\"fadiga\") == 1, \"Sim\")\n",
        "    .when(col(\"fadiga\") == 2, \"Não\")\n",
        "    .when(col(\"fadiga\") == 3, \"Não sabe\")\n",
        "    .otherwise(\"Desconhecido\")\n",
        ")\n",
        "df.show()"
      ],
      "metadata": {
        "id": "KbyOXjJq3oiL",
        "colab": {
          "base_uri": "https://localhost:8080/"
        },
        "outputId": "3a8acda6-00e7-4545-aa7e-e5bfc1e61d11"
      },
      "execution_count": null,
      "outputs": [
        {
          "output_type": "stream",
          "name": "stdout",
          "text": [
            "+----+---+------+------+-----+------+-----------+--------------------+-----+-----+---------------+-------------------------+-------------+------------+-----+----------------------------+------+-------------+------------------------+------------+-------------------+-------------------+--------------+---------------+---------------+---------------------------------+------------------+\n",
            "| ano|mes|semana|estado|idade|  sexo|cor_ou_raca|        escolaridade|febre|tosse|dor_de_garganta|dificuldade_para_respirar|dor_de_cabeca|dor_no_peito|nausa|nariz_entupido_ou_escorrendo|fadiga|dor_nos_olhos|perda_de_cheiro_ou_sabor|dor_muscular|atividade_profissao|semanas_trabalhadas|faixa_de_renda|teste_realizado|resultado_teste|temporariamente_afastado_trabalho|motivo_afastamento|\n",
            "+----+---+------+------+-----+------+-----------+--------------------+-----+-----+---------------+-------------------------+-------------+------------+-----+----------------------------+------+-------------+------------------------+------------+-------------------+-------------------+--------------+---------------+---------------+---------------------------------+------------------+\n",
            "|2020|  9|     1| Amapá|   47| Homem|      Parda| Superior incompleto|  Não|  Não|            Não|                      Não|          Não|         Não|  Não|                         Não|   Não|            2|                       2|           2|                  4|                 40|             5|              2|           NULL|                             NULL|              NULL|\n",
            "|2020|  9|     4| Amapá|   20| Homem|     Branca|      Médio completo|  Não|  Não|            Não|                      Não|          Não|         Não|  Não|                         Não|   Não|            2|                       2|           2|                  7|                 50|             4|              2|           NULL|                             NULL|              NULL|\n",
            "|2020|  9|     2| Amapá|   18|Mulher|     Branca|      Médio completo|  Não|  Não|            Não|                      Não|          Não|         Não|  Não|                         Não|   Não|            2|                       2|           2|               NULL|               NULL|          NULL|              2|           NULL|                                2|              NULL|\n",
            "|2020|  9|     4| Amapá|   22| Homem|     Branca|      Médio completo|  Não|  Não|            Não|                      Não|          Não|         Não|  Não|                         Não|   Não|            2|                       2|           2|               NULL|               NULL|          NULL|              2|           NULL|                                2|              NULL|\n",
            "|2020|  9|     4| Amapá|   64|Mulher|      Parda|Fundamental incom...|  Não|  Não|            Não|                      Não|          Sim|         Não|  Não|                         Não|   Não|            2|                       2|           2|                  6|                 50|             2|              2|           NULL|                             NULL|              NULL|\n",
            "|2020|  9|     3| Amapá|   19| Homem|      Parda| Superior incompleto|  Não|  Não|            Não|                      Não|          Não|         Não|  Não|                         Não|   Não|            2|                       2|           2|               NULL|               NULL|          NULL|              2|           NULL|                                2|              NULL|\n",
            "|2020|  9|     3| Amapá|   33| Homem|     Branca|   Superior completo|  Não|  Não|            Não|                      Não|          Não|         Não|  Não|                         Não|   Não|            2|                       2|           2|                  6|                 40|             4|              2|           NULL|                             NULL|              NULL|\n",
            "|2020|  9|     3| Amapá|   13|Mulher|      Parda|Fundamental incom...|  Não|  Não|            Não|                      Não|          Não|         Não|  Não|                         Não|   Não|            2|                       2|           2|               NULL|               NULL|          NULL|              2|           NULL|                             NULL|              NULL|\n",
            "|2020|  9|     1| Amapá|   64| Homem|      Parda|Fundamental incom...|  Não|  Não|            Não|                      Não|          Não|         Não|  Não|                         Não|   Não|            2|                       2|           2|                 18|                 30|             6|              2|           NULL|                                1|                 1|\n",
            "|2020|  9|     1| Amapá|   21|Mulher|      Parda|   Superior completo|  Não|  Não|            Não|                      Não|          Não|         Não|  Não|                         Não|   Não|            2|                       2|           2|                 12|                 30|             4|              2|           NULL|                             NULL|              NULL|\n",
            "|2020|  9|     2| Amapá|   45|Mulher|      Parda|      Médio completo|  Sim|  Não|            Não|                      Não|          Não|         Sim|  Não|                         Não|   Não|            2|                       2|           1|               NULL|               NULL|          NULL|              2|           NULL|                                2|              NULL|\n",
            "|2020|  9|     2| Amapá|   61| Homem|      Parda|      Médio completo|  Não|  Não|            Não|                      Não|          Não|         Não|  Não|                         Não|   Não|            2|                       2|           2|               NULL|               NULL|          NULL|              2|           NULL|                                2|              NULL|\n",
            "|2020|  9|     4| Amapá|   18| Homem|      Parda|    Médio incompleto|  Não|  Não|            Não|                      Não|          Não|         Não|  Não|                         Não|   Não|            2|                       2|           2|               NULL|               NULL|          NULL|              2|           NULL|                                2|              NULL|\n",
            "|2020|  9|     4| Amapá|   41| Homem|      Parda| Superior incompleto|  Não|  Não|            Não|                      Não|          Não|         Não|  Não|                         Não|   Não|            2|                       2|           2|                  6|                 44|             6|              2|           NULL|                             NULL|              NULL|\n",
            "|2020|  9|     4| Amapá|   38|Mulher|     Branca|       Pós-graduação|  Não|  Não|            Não|                      Não|          Não|         Não|  Não|                         Não|   Não|            2|                       2|           2|                 20|                 40|             4|              2|           NULL|                             NULL|              NULL|\n",
            "|2020|  9|     4| Amapá|   42|Mulher|     Branca|      Médio completo|  Não|  Não|            Não|                      Não|          Não|         Não|  Não|                         Não|   Não|            2|                       2|           2|               NULL|               NULL|          NULL|              1|              1|                                2|              NULL|\n",
            "|2020|  9|     3| Amapá|    7|Mulher|      Parda|Fundamental incom...|  Não|  Sim|            Sim|                      Não|          Sim|         Não|  Não|                         Não|   Não|            2|                       2|           2|               NULL|               NULL|          NULL|              1|              1|                             NULL|              NULL|\n",
            "|2020|  9|     3| Amapá|   40|Mulher|      Parda|      Médio completo|  Não|  Sim|            Não|                      Não|          Não|         Não|  Não|                         Sim|   Não|            2|                       2|           1|               NULL|               NULL|          NULL|              1|              1|                                2|              NULL|\n",
            "|2020|  9|     1| Amapá|   35| Homem|      Parda|Fundamental incom...|  Sim|  Sim|            Sim|                      Sim|          Não|         Não|  Não|                         Não|   Não|            2|                       1|           2|               NULL|               NULL|          NULL|              2|           NULL|                                2|              NULL|\n",
            "|2020|  9|     3| Amapá|   68| Homem|      Preta|   Superior completo|  Não|  Não|            Não|                      Não|          Não|         Não|  Não|                         Não|   Não|            2|                       2|           2|               NULL|               NULL|          NULL|              2|           NULL|                                2|              NULL|\n",
            "+----+---+------+------+-----+------+-----------+--------------------+-----+-----+---------------+-------------------------+-------------+------------+-----+----------------------------+------+-------------+------------------------+------------+-------------------+-------------------+--------------+---------------+---------------+---------------------------------+------------------+\n",
            "only showing top 20 rows\n",
            "\n"
          ]
        }
      ]
    },
    {
      "cell_type": "code",
      "source": [
        "df = df.withColumn(\n",
        "    \"dor_nos_olhos\",\n",
        "     when(col(\"dor_nos_olhos\") == 1, \"Sim\")\n",
        "    .when(col(\"dor_nos_olhos\") == 2, \"Não\")\n",
        "    .when(col(\"dor_nos_olhos\") == 3, \"Não sabe\")\n",
        "    .otherwise(\"Desconhecido\")\n",
        ")\n",
        "df.show()"
      ],
      "metadata": {
        "id": "cSJk4poh3ss0",
        "colab": {
          "base_uri": "https://localhost:8080/"
        },
        "outputId": "4c20cd3e-c3b6-4991-b2b4-016e60d181cb"
      },
      "execution_count": null,
      "outputs": [
        {
          "output_type": "stream",
          "name": "stdout",
          "text": [
            "+----+---+------+------+-----+------+-----------+--------------------+-----+-----+---------------+-------------------------+-------------+------------+-----+----------------------------+------+-------------+------------------------+------------+-------------------+-------------------+--------------+---------------+---------------+---------------------------------+------------------+\n",
            "| ano|mes|semana|estado|idade|  sexo|cor_ou_raca|        escolaridade|febre|tosse|dor_de_garganta|dificuldade_para_respirar|dor_de_cabeca|dor_no_peito|nausa|nariz_entupido_ou_escorrendo|fadiga|dor_nos_olhos|perda_de_cheiro_ou_sabor|dor_muscular|atividade_profissao|semanas_trabalhadas|faixa_de_renda|teste_realizado|resultado_teste|temporariamente_afastado_trabalho|motivo_afastamento|\n",
            "+----+---+------+------+-----+------+-----------+--------------------+-----+-----+---------------+-------------------------+-------------+------------+-----+----------------------------+------+-------------+------------------------+------------+-------------------+-------------------+--------------+---------------+---------------+---------------------------------+------------------+\n",
            "|2020|  9|     1| Amapá|   47| Homem|      Parda| Superior incompleto|  Não|  Não|            Não|                      Não|          Não|         Não|  Não|                         Não|   Não|          Não|                       2|           2|                  4|                 40|             5|              2|           NULL|                             NULL|              NULL|\n",
            "|2020|  9|     4| Amapá|   20| Homem|     Branca|      Médio completo|  Não|  Não|            Não|                      Não|          Não|         Não|  Não|                         Não|   Não|          Não|                       2|           2|                  7|                 50|             4|              2|           NULL|                             NULL|              NULL|\n",
            "|2020|  9|     2| Amapá|   18|Mulher|     Branca|      Médio completo|  Não|  Não|            Não|                      Não|          Não|         Não|  Não|                         Não|   Não|          Não|                       2|           2|               NULL|               NULL|          NULL|              2|           NULL|                                2|              NULL|\n",
            "|2020|  9|     4| Amapá|   22| Homem|     Branca|      Médio completo|  Não|  Não|            Não|                      Não|          Não|         Não|  Não|                         Não|   Não|          Não|                       2|           2|               NULL|               NULL|          NULL|              2|           NULL|                                2|              NULL|\n",
            "|2020|  9|     4| Amapá|   64|Mulher|      Parda|Fundamental incom...|  Não|  Não|            Não|                      Não|          Sim|         Não|  Não|                         Não|   Não|          Não|                       2|           2|                  6|                 50|             2|              2|           NULL|                             NULL|              NULL|\n",
            "|2020|  9|     3| Amapá|   19| Homem|      Parda| Superior incompleto|  Não|  Não|            Não|                      Não|          Não|         Não|  Não|                         Não|   Não|          Não|                       2|           2|               NULL|               NULL|          NULL|              2|           NULL|                                2|              NULL|\n",
            "|2020|  9|     3| Amapá|   33| Homem|     Branca|   Superior completo|  Não|  Não|            Não|                      Não|          Não|         Não|  Não|                         Não|   Não|          Não|                       2|           2|                  6|                 40|             4|              2|           NULL|                             NULL|              NULL|\n",
            "|2020|  9|     3| Amapá|   13|Mulher|      Parda|Fundamental incom...|  Não|  Não|            Não|                      Não|          Não|         Não|  Não|                         Não|   Não|          Não|                       2|           2|               NULL|               NULL|          NULL|              2|           NULL|                             NULL|              NULL|\n",
            "|2020|  9|     1| Amapá|   64| Homem|      Parda|Fundamental incom...|  Não|  Não|            Não|                      Não|          Não|         Não|  Não|                         Não|   Não|          Não|                       2|           2|                 18|                 30|             6|              2|           NULL|                                1|                 1|\n",
            "|2020|  9|     1| Amapá|   21|Mulher|      Parda|   Superior completo|  Não|  Não|            Não|                      Não|          Não|         Não|  Não|                         Não|   Não|          Não|                       2|           2|                 12|                 30|             4|              2|           NULL|                             NULL|              NULL|\n",
            "|2020|  9|     2| Amapá|   45|Mulher|      Parda|      Médio completo|  Sim|  Não|            Não|                      Não|          Não|         Sim|  Não|                         Não|   Não|          Não|                       2|           1|               NULL|               NULL|          NULL|              2|           NULL|                                2|              NULL|\n",
            "|2020|  9|     2| Amapá|   61| Homem|      Parda|      Médio completo|  Não|  Não|            Não|                      Não|          Não|         Não|  Não|                         Não|   Não|          Não|                       2|           2|               NULL|               NULL|          NULL|              2|           NULL|                                2|              NULL|\n",
            "|2020|  9|     4| Amapá|   18| Homem|      Parda|    Médio incompleto|  Não|  Não|            Não|                      Não|          Não|         Não|  Não|                         Não|   Não|          Não|                       2|           2|               NULL|               NULL|          NULL|              2|           NULL|                                2|              NULL|\n",
            "|2020|  9|     4| Amapá|   41| Homem|      Parda| Superior incompleto|  Não|  Não|            Não|                      Não|          Não|         Não|  Não|                         Não|   Não|          Não|                       2|           2|                  6|                 44|             6|              2|           NULL|                             NULL|              NULL|\n",
            "|2020|  9|     4| Amapá|   38|Mulher|     Branca|       Pós-graduação|  Não|  Não|            Não|                      Não|          Não|         Não|  Não|                         Não|   Não|          Não|                       2|           2|                 20|                 40|             4|              2|           NULL|                             NULL|              NULL|\n",
            "|2020|  9|     4| Amapá|   42|Mulher|     Branca|      Médio completo|  Não|  Não|            Não|                      Não|          Não|         Não|  Não|                         Não|   Não|          Não|                       2|           2|               NULL|               NULL|          NULL|              1|              1|                                2|              NULL|\n",
            "|2020|  9|     3| Amapá|    7|Mulher|      Parda|Fundamental incom...|  Não|  Sim|            Sim|                      Não|          Sim|         Não|  Não|                         Não|   Não|          Não|                       2|           2|               NULL|               NULL|          NULL|              1|              1|                             NULL|              NULL|\n",
            "|2020|  9|     3| Amapá|   40|Mulher|      Parda|      Médio completo|  Não|  Sim|            Não|                      Não|          Não|         Não|  Não|                         Sim|   Não|          Não|                       2|           1|               NULL|               NULL|          NULL|              1|              1|                                2|              NULL|\n",
            "|2020|  9|     1| Amapá|   35| Homem|      Parda|Fundamental incom...|  Sim|  Sim|            Sim|                      Sim|          Não|         Não|  Não|                         Não|   Não|          Não|                       1|           2|               NULL|               NULL|          NULL|              2|           NULL|                                2|              NULL|\n",
            "|2020|  9|     3| Amapá|   68| Homem|      Preta|   Superior completo|  Não|  Não|            Não|                      Não|          Não|         Não|  Não|                         Não|   Não|          Não|                       2|           2|               NULL|               NULL|          NULL|              2|           NULL|                                2|              NULL|\n",
            "+----+---+------+------+-----+------+-----------+--------------------+-----+-----+---------------+-------------------------+-------------+------------+-----+----------------------------+------+-------------+------------------------+------------+-------------------+-------------------+--------------+---------------+---------------+---------------------------------+------------------+\n",
            "only showing top 20 rows\n",
            "\n"
          ]
        }
      ]
    },
    {
      "cell_type": "code",
      "source": [
        "df = df.withColumn(\n",
        "    \"perda_de_cheiro_ou_sabor\",\n",
        "     when(col(\"perda_de_cheiro_ou_sabor\") == 1, \"Sim\")\n",
        "    .when(col(\"perda_de_cheiro_ou_sabor\") == 2, \"Não\")\n",
        "    .when(col(\"perda_de_cheiro_ou_sabor\") == 3, \"Não sabe\")\n",
        "    .otherwise(\"Desconhecido\")\n",
        ")\n",
        "df.show()"
      ],
      "metadata": {
        "id": "VVotvimb3yQ6",
        "colab": {
          "base_uri": "https://localhost:8080/"
        },
        "outputId": "dbe34040-9939-465c-da68-31c124ab2997"
      },
      "execution_count": null,
      "outputs": [
        {
          "output_type": "stream",
          "name": "stdout",
          "text": [
            "+----+---+------+------+-----+------+-----------+--------------------+-----+-----+---------------+-------------------------+-------------+------------+-----+----------------------------+------+-------------+------------------------+------------+-------------------+-------------------+--------------+---------------+---------------+---------------------------------+------------------+\n",
            "| ano|mes|semana|estado|idade|  sexo|cor_ou_raca|        escolaridade|febre|tosse|dor_de_garganta|dificuldade_para_respirar|dor_de_cabeca|dor_no_peito|nausa|nariz_entupido_ou_escorrendo|fadiga|dor_nos_olhos|perda_de_cheiro_ou_sabor|dor_muscular|atividade_profissao|semanas_trabalhadas|faixa_de_renda|teste_realizado|resultado_teste|temporariamente_afastado_trabalho|motivo_afastamento|\n",
            "+----+---+------+------+-----+------+-----------+--------------------+-----+-----+---------------+-------------------------+-------------+------------+-----+----------------------------+------+-------------+------------------------+------------+-------------------+-------------------+--------------+---------------+---------------+---------------------------------+------------------+\n",
            "|2020|  9|     1| Amapá|   47| Homem|      Parda| Superior incompleto|  Não|  Não|            Não|                      Não|          Não|         Não|  Não|                         Não|   Não|          Não|                     Não|           2|                  4|                 40|             5|              2|           NULL|                             NULL|              NULL|\n",
            "|2020|  9|     4| Amapá|   20| Homem|     Branca|      Médio completo|  Não|  Não|            Não|                      Não|          Não|         Não|  Não|                         Não|   Não|          Não|                     Não|           2|                  7|                 50|             4|              2|           NULL|                             NULL|              NULL|\n",
            "|2020|  9|     2| Amapá|   18|Mulher|     Branca|      Médio completo|  Não|  Não|            Não|                      Não|          Não|         Não|  Não|                         Não|   Não|          Não|                     Não|           2|               NULL|               NULL|          NULL|              2|           NULL|                                2|              NULL|\n",
            "|2020|  9|     4| Amapá|   22| Homem|     Branca|      Médio completo|  Não|  Não|            Não|                      Não|          Não|         Não|  Não|                         Não|   Não|          Não|                     Não|           2|               NULL|               NULL|          NULL|              2|           NULL|                                2|              NULL|\n",
            "|2020|  9|     4| Amapá|   64|Mulher|      Parda|Fundamental incom...|  Não|  Não|            Não|                      Não|          Sim|         Não|  Não|                         Não|   Não|          Não|                     Não|           2|                  6|                 50|             2|              2|           NULL|                             NULL|              NULL|\n",
            "|2020|  9|     3| Amapá|   19| Homem|      Parda| Superior incompleto|  Não|  Não|            Não|                      Não|          Não|         Não|  Não|                         Não|   Não|          Não|                     Não|           2|               NULL|               NULL|          NULL|              2|           NULL|                                2|              NULL|\n",
            "|2020|  9|     3| Amapá|   33| Homem|     Branca|   Superior completo|  Não|  Não|            Não|                      Não|          Não|         Não|  Não|                         Não|   Não|          Não|                     Não|           2|                  6|                 40|             4|              2|           NULL|                             NULL|              NULL|\n",
            "|2020|  9|     3| Amapá|   13|Mulher|      Parda|Fundamental incom...|  Não|  Não|            Não|                      Não|          Não|         Não|  Não|                         Não|   Não|          Não|                     Não|           2|               NULL|               NULL|          NULL|              2|           NULL|                             NULL|              NULL|\n",
            "|2020|  9|     1| Amapá|   64| Homem|      Parda|Fundamental incom...|  Não|  Não|            Não|                      Não|          Não|         Não|  Não|                         Não|   Não|          Não|                     Não|           2|                 18|                 30|             6|              2|           NULL|                                1|                 1|\n",
            "|2020|  9|     1| Amapá|   21|Mulher|      Parda|   Superior completo|  Não|  Não|            Não|                      Não|          Não|         Não|  Não|                         Não|   Não|          Não|                     Não|           2|                 12|                 30|             4|              2|           NULL|                             NULL|              NULL|\n",
            "|2020|  9|     2| Amapá|   45|Mulher|      Parda|      Médio completo|  Sim|  Não|            Não|                      Não|          Não|         Sim|  Não|                         Não|   Não|          Não|                     Não|           1|               NULL|               NULL|          NULL|              2|           NULL|                                2|              NULL|\n",
            "|2020|  9|     2| Amapá|   61| Homem|      Parda|      Médio completo|  Não|  Não|            Não|                      Não|          Não|         Não|  Não|                         Não|   Não|          Não|                     Não|           2|               NULL|               NULL|          NULL|              2|           NULL|                                2|              NULL|\n",
            "|2020|  9|     4| Amapá|   18| Homem|      Parda|    Médio incompleto|  Não|  Não|            Não|                      Não|          Não|         Não|  Não|                         Não|   Não|          Não|                     Não|           2|               NULL|               NULL|          NULL|              2|           NULL|                                2|              NULL|\n",
            "|2020|  9|     4| Amapá|   41| Homem|      Parda| Superior incompleto|  Não|  Não|            Não|                      Não|          Não|         Não|  Não|                         Não|   Não|          Não|                     Não|           2|                  6|                 44|             6|              2|           NULL|                             NULL|              NULL|\n",
            "|2020|  9|     4| Amapá|   38|Mulher|     Branca|       Pós-graduação|  Não|  Não|            Não|                      Não|          Não|         Não|  Não|                         Não|   Não|          Não|                     Não|           2|                 20|                 40|             4|              2|           NULL|                             NULL|              NULL|\n",
            "|2020|  9|     4| Amapá|   42|Mulher|     Branca|      Médio completo|  Não|  Não|            Não|                      Não|          Não|         Não|  Não|                         Não|   Não|          Não|                     Não|           2|               NULL|               NULL|          NULL|              1|              1|                                2|              NULL|\n",
            "|2020|  9|     3| Amapá|    7|Mulher|      Parda|Fundamental incom...|  Não|  Sim|            Sim|                      Não|          Sim|         Não|  Não|                         Não|   Não|          Não|                     Não|           2|               NULL|               NULL|          NULL|              1|              1|                             NULL|              NULL|\n",
            "|2020|  9|     3| Amapá|   40|Mulher|      Parda|      Médio completo|  Não|  Sim|            Não|                      Não|          Não|         Não|  Não|                         Sim|   Não|          Não|                     Não|           1|               NULL|               NULL|          NULL|              1|              1|                                2|              NULL|\n",
            "|2020|  9|     1| Amapá|   35| Homem|      Parda|Fundamental incom...|  Sim|  Sim|            Sim|                      Sim|          Não|         Não|  Não|                         Não|   Não|          Não|                     Sim|           2|               NULL|               NULL|          NULL|              2|           NULL|                                2|              NULL|\n",
            "|2020|  9|     3| Amapá|   68| Homem|      Preta|   Superior completo|  Não|  Não|            Não|                      Não|          Não|         Não|  Não|                         Não|   Não|          Não|                     Não|           2|               NULL|               NULL|          NULL|              2|           NULL|                                2|              NULL|\n",
            "+----+---+------+------+-----+------+-----------+--------------------+-----+-----+---------------+-------------------------+-------------+------------+-----+----------------------------+------+-------------+------------------------+------------+-------------------+-------------------+--------------+---------------+---------------+---------------------------------+------------------+\n",
            "only showing top 20 rows\n",
            "\n"
          ]
        }
      ]
    },
    {
      "cell_type": "code",
      "source": [
        "df = df.withColumn(\n",
        "    \"dor_muscular\",\n",
        "     when(col(\"dor_muscular\") == 1, \"Sim\")\n",
        "    .when(col(\"dor_muscular\") == 2, \"Não\")\n",
        "    .when(col(\"dor_muscular\") == 3, \"Não sabe\")\n",
        "    .otherwise(\"Desconhecido\")\n",
        ")\n",
        "df.show()"
      ],
      "metadata": {
        "id": "WH0ujrcL306r",
        "colab": {
          "base_uri": "https://localhost:8080/"
        },
        "outputId": "19240598-765a-4cc7-ebd8-cad73bf34237"
      },
      "execution_count": null,
      "outputs": [
        {
          "output_type": "stream",
          "name": "stdout",
          "text": [
            "+----+---+------+------+-----+------+-----------+--------------------+-----+-----+---------------+-------------------------+-------------+------------+-----+----------------------------+------+-------------+------------------------+------------+-------------------+-------------------+--------------+---------------+---------------+---------------------------------+------------------+\n",
            "| ano|mes|semana|estado|idade|  sexo|cor_ou_raca|        escolaridade|febre|tosse|dor_de_garganta|dificuldade_para_respirar|dor_de_cabeca|dor_no_peito|nausa|nariz_entupido_ou_escorrendo|fadiga|dor_nos_olhos|perda_de_cheiro_ou_sabor|dor_muscular|atividade_profissao|semanas_trabalhadas|faixa_de_renda|teste_realizado|resultado_teste|temporariamente_afastado_trabalho|motivo_afastamento|\n",
            "+----+---+------+------+-----+------+-----------+--------------------+-----+-----+---------------+-------------------------+-------------+------------+-----+----------------------------+------+-------------+------------------------+------------+-------------------+-------------------+--------------+---------------+---------------+---------------------------------+------------------+\n",
            "|2020|  9|     1| Amapá|   47| Homem|      Parda| Superior incompleto|  Não|  Não|            Não|                      Não|          Não|         Não|  Não|                         Não|   Não|          Não|                     Não|         Não|                  4|                 40|             5|              2|           NULL|                             NULL|              NULL|\n",
            "|2020|  9|     4| Amapá|   20| Homem|     Branca|      Médio completo|  Não|  Não|            Não|                      Não|          Não|         Não|  Não|                         Não|   Não|          Não|                     Não|         Não|                  7|                 50|             4|              2|           NULL|                             NULL|              NULL|\n",
            "|2020|  9|     2| Amapá|   18|Mulher|     Branca|      Médio completo|  Não|  Não|            Não|                      Não|          Não|         Não|  Não|                         Não|   Não|          Não|                     Não|         Não|               NULL|               NULL|          NULL|              2|           NULL|                                2|              NULL|\n",
            "|2020|  9|     4| Amapá|   22| Homem|     Branca|      Médio completo|  Não|  Não|            Não|                      Não|          Não|         Não|  Não|                         Não|   Não|          Não|                     Não|         Não|               NULL|               NULL|          NULL|              2|           NULL|                                2|              NULL|\n",
            "|2020|  9|     4| Amapá|   64|Mulher|      Parda|Fundamental incom...|  Não|  Não|            Não|                      Não|          Sim|         Não|  Não|                         Não|   Não|          Não|                     Não|         Não|                  6|                 50|             2|              2|           NULL|                             NULL|              NULL|\n",
            "|2020|  9|     3| Amapá|   19| Homem|      Parda| Superior incompleto|  Não|  Não|            Não|                      Não|          Não|         Não|  Não|                         Não|   Não|          Não|                     Não|         Não|               NULL|               NULL|          NULL|              2|           NULL|                                2|              NULL|\n",
            "|2020|  9|     3| Amapá|   33| Homem|     Branca|   Superior completo|  Não|  Não|            Não|                      Não|          Não|         Não|  Não|                         Não|   Não|          Não|                     Não|         Não|                  6|                 40|             4|              2|           NULL|                             NULL|              NULL|\n",
            "|2020|  9|     3| Amapá|   13|Mulher|      Parda|Fundamental incom...|  Não|  Não|            Não|                      Não|          Não|         Não|  Não|                         Não|   Não|          Não|                     Não|         Não|               NULL|               NULL|          NULL|              2|           NULL|                             NULL|              NULL|\n",
            "|2020|  9|     1| Amapá|   64| Homem|      Parda|Fundamental incom...|  Não|  Não|            Não|                      Não|          Não|         Não|  Não|                         Não|   Não|          Não|                     Não|         Não|                 18|                 30|             6|              2|           NULL|                                1|                 1|\n",
            "|2020|  9|     1| Amapá|   21|Mulher|      Parda|   Superior completo|  Não|  Não|            Não|                      Não|          Não|         Não|  Não|                         Não|   Não|          Não|                     Não|         Não|                 12|                 30|             4|              2|           NULL|                             NULL|              NULL|\n",
            "|2020|  9|     2| Amapá|   45|Mulher|      Parda|      Médio completo|  Sim|  Não|            Não|                      Não|          Não|         Sim|  Não|                         Não|   Não|          Não|                     Não|         Sim|               NULL|               NULL|          NULL|              2|           NULL|                                2|              NULL|\n",
            "|2020|  9|     2| Amapá|   61| Homem|      Parda|      Médio completo|  Não|  Não|            Não|                      Não|          Não|         Não|  Não|                         Não|   Não|          Não|                     Não|         Não|               NULL|               NULL|          NULL|              2|           NULL|                                2|              NULL|\n",
            "|2020|  9|     4| Amapá|   18| Homem|      Parda|    Médio incompleto|  Não|  Não|            Não|                      Não|          Não|         Não|  Não|                         Não|   Não|          Não|                     Não|         Não|               NULL|               NULL|          NULL|              2|           NULL|                                2|              NULL|\n",
            "|2020|  9|     4| Amapá|   41| Homem|      Parda| Superior incompleto|  Não|  Não|            Não|                      Não|          Não|         Não|  Não|                         Não|   Não|          Não|                     Não|         Não|                  6|                 44|             6|              2|           NULL|                             NULL|              NULL|\n",
            "|2020|  9|     4| Amapá|   38|Mulher|     Branca|       Pós-graduação|  Não|  Não|            Não|                      Não|          Não|         Não|  Não|                         Não|   Não|          Não|                     Não|         Não|                 20|                 40|             4|              2|           NULL|                             NULL|              NULL|\n",
            "|2020|  9|     4| Amapá|   42|Mulher|     Branca|      Médio completo|  Não|  Não|            Não|                      Não|          Não|         Não|  Não|                         Não|   Não|          Não|                     Não|         Não|               NULL|               NULL|          NULL|              1|              1|                                2|              NULL|\n",
            "|2020|  9|     3| Amapá|    7|Mulher|      Parda|Fundamental incom...|  Não|  Sim|            Sim|                      Não|          Sim|         Não|  Não|                         Não|   Não|          Não|                     Não|         Não|               NULL|               NULL|          NULL|              1|              1|                             NULL|              NULL|\n",
            "|2020|  9|     3| Amapá|   40|Mulher|      Parda|      Médio completo|  Não|  Sim|            Não|                      Não|          Não|         Não|  Não|                         Sim|   Não|          Não|                     Não|         Sim|               NULL|               NULL|          NULL|              1|              1|                                2|              NULL|\n",
            "|2020|  9|     1| Amapá|   35| Homem|      Parda|Fundamental incom...|  Sim|  Sim|            Sim|                      Sim|          Não|         Não|  Não|                         Não|   Não|          Não|                     Sim|         Não|               NULL|               NULL|          NULL|              2|           NULL|                                2|              NULL|\n",
            "|2020|  9|     3| Amapá|   68| Homem|      Preta|   Superior completo|  Não|  Não|            Não|                      Não|          Não|         Não|  Não|                         Não|   Não|          Não|                     Não|         Não|               NULL|               NULL|          NULL|              2|           NULL|                                2|              NULL|\n",
            "+----+---+------+------+-----+------+-----------+--------------------+-----+-----+---------------+-------------------------+-------------+------------+-----+----------------------------+------+-------------+------------------------+------------+-------------------+-------------------+--------------+---------------+---------------+---------------------------------+------------------+\n",
            "only showing top 20 rows\n",
            "\n"
          ]
        }
      ]
    },
    {
      "cell_type": "code",
      "source": [
        "df = df.withColumn(\"atividade_profissao\", col(\"atividade_profissao\").cast(\"string\"))"
      ],
      "metadata": {
        "id": "a0i3YmzA8cHo"
      },
      "execution_count": null,
      "outputs": []
    },
    {
      "cell_type": "markdown",
      "source": [],
      "metadata": {
        "id": "0u26joCn8e7Z"
      }
    },
    {
      "cell_type": "code",
      "source": [
        "df = df.withColumn(\n",
        "    \"atividade_profissao\",\n",
        "    when(col(\"atividade_profissao\") == 1, \"Agricultura\")\n",
        "    .when(col(\"atividade_profissao\") == 2, \"Mineração\")\n",
        "    .when(col(\"atividade_profissao\") == 3, \"Indústria\")\n",
        "    .when(col(\"atividade_profissao\") == 4, \"Energia\")\n",
        "    .when(col(\"atividade_profissao\") == 5, \"Construção\")\n",
        "    .when(col(\"atividade_profissao\") == 6, \"Comércio\")\n",
        "    .when(col(\"atividade_profissao\") == 7, \"Reparo\")\n",
        "    .when(col(\"atividade_profissao\") == 8, \"Transporte\")\n",
        "    .when(col(\"atividade_profissao\") == 9, \"Logística\")\n",
        "    .when(col(\"atividade_profissao\") == 10, \"Logística\")\n",
        "    .when(col(\"atividade_profissao\") == 11, \"Turismo\")\n",
        "    .when(col(\"atividade_profissao\") == 12, \"Alimentação\")\n",
        "    .when(col(\"atividade_profissao\") == 13, \"Comunicação\")\n",
        "    .when(col(\"atividade_profissao\") == 14, \"Financeiro\")\n",
        "    .when(col(\"atividade_profissao\") == 15, \"Imobiliário\")\n",
        "    .when(col(\"atividade_profissao\") == 16, \"Consultoria\")\n",
        "    .when(col(\"atividade_profissao\") == 17, \"Serviços\")\n",
        "    .when(col(\"atividade_profissao\") == 18, \"Administração\")\n",
        "    .when(col(\"atividade_profissao\") == 19, \"Educação\")\n",
        "    .when(col(\"atividade_profissao\") == 20, \"Saúde\")\n",
        "    .when(col(\"atividade_profissao\") == 21, \"Organizações\")\n",
        "    .when(col(\"atividade_profissao\") == 22, \"Cultura\")\n",
        "    .when(col(\"atividade_profissao\") == 23, \"Estética\")\n",
        "    .when(col(\"atividade_profissao\") == 24, \"Doméstico\")\n",
        "    .when(col(\"atividade_profissao\") == 25, \"Diversos\")\n",
        "    .otherwise(\"Desconhecido\"))"
      ],
      "metadata": {
        "id": "xcLbnc9b78dq"
      },
      "execution_count": null,
      "outputs": []
    },
    {
      "cell_type": "code",
      "source": [
        "df = df.withColumn(\n",
        "    \"faixa_de_renda\",\n",
        "    when(col(\"faixa_de_renda\") == 0, \"0 - 100\")\n",
        "    .when(col(\"faixa_de_renda\") == 1, \"101 - 300\")\n",
        "    .when(col(\"faixa_de_renda\") == 2, \"301 - 600\")\n",
        "    .when(col(\"faixa_de_renda\") == 3, \"601 - 800\")\n",
        "    .when(col(\"faixa_de_renda\") == 4, \"801 - 1.600\")\n",
        "    .when(col(\"faixa_de_renda\") == 5, \"1.601 - 3.000\")\n",
        "    .when(col(\"faixa_de_renda\") == 6, \"3.001 - 10.000\")\n",
        "    .when(col(\"faixa_de_renda\") == 7, \"10.001 - 50.000\")\n",
        "    .when(col(\"faixa_de_renda\") == 8, \"50.001 - 100.000\")\n",
        "    .when(col(\"faixa_de_renda\") == 9, \"Mais de 100.000\")\n",
        "    .otherwise(\"Não especificado\")\n",
        "\n",
        "    )\n",
        "df.show()"
      ],
      "metadata": {
        "id": "U1MSa_2g8QS7",
        "colab": {
          "base_uri": "https://localhost:8080/"
        },
        "outputId": "331e529d-927a-4f8e-eef3-242e9d29b081"
      },
      "execution_count": null,
      "outputs": [
        {
          "output_type": "stream",
          "name": "stdout",
          "text": [
            "+----+---+------+------+-----+------+-----------+--------------------+-----+-----+---------------+-------------------------+-------------+------------+-----+----------------------------+------+-------------+------------------------+------------+-------------------+-------------------+----------------+---------------+---------------+---------------------------------+------------------+\n",
            "| ano|mes|semana|estado|idade|  sexo|cor_ou_raca|        escolaridade|febre|tosse|dor_de_garganta|dificuldade_para_respirar|dor_de_cabeca|dor_no_peito|nausa|nariz_entupido_ou_escorrendo|fadiga|dor_nos_olhos|perda_de_cheiro_ou_sabor|dor_muscular|atividade_profissao|semanas_trabalhadas|  faixa_de_renda|teste_realizado|resultado_teste|temporariamente_afastado_trabalho|motivo_afastamento|\n",
            "+----+---+------+------+-----+------+-----------+--------------------+-----+-----+---------------+-------------------------+-------------+------------+-----+----------------------------+------+-------------+------------------------+------------+-------------------+-------------------+----------------+---------------+---------------+---------------------------------+------------------+\n",
            "|2020|  9|     1| Amapá|   47| Homem|      Parda| Superior incompleto|  Não|  Não|            Não|                      Não|          Não|         Não|  Não|                         Não|   Não|          Não|                     Não|         Não|            Energia|                 40|   1.601 - 3.000|              2|           NULL|                             NULL|              NULL|\n",
            "|2020|  9|     4| Amapá|   20| Homem|     Branca|      Médio completo|  Não|  Não|            Não|                      Não|          Não|         Não|  Não|                         Não|   Não|          Não|                     Não|         Não|             Reparo|                 50|     801 - 1.600|              2|           NULL|                             NULL|              NULL|\n",
            "|2020|  9|     2| Amapá|   18|Mulher|     Branca|      Médio completo|  Não|  Não|            Não|                      Não|          Não|         Não|  Não|                         Não|   Não|          Não|                     Não|         Não|       Desconhecido|               NULL|Não especificado|              2|           NULL|                                2|              NULL|\n",
            "|2020|  9|     4| Amapá|   22| Homem|     Branca|      Médio completo|  Não|  Não|            Não|                      Não|          Não|         Não|  Não|                         Não|   Não|          Não|                     Não|         Não|       Desconhecido|               NULL|Não especificado|              2|           NULL|                                2|              NULL|\n",
            "|2020|  9|     4| Amapá|   64|Mulher|      Parda|Fundamental incom...|  Não|  Não|            Não|                      Não|          Sim|         Não|  Não|                         Não|   Não|          Não|                     Não|         Não|           Comércio|                 50|       301 - 600|              2|           NULL|                             NULL|              NULL|\n",
            "|2020|  9|     3| Amapá|   19| Homem|      Parda| Superior incompleto|  Não|  Não|            Não|                      Não|          Não|         Não|  Não|                         Não|   Não|          Não|                     Não|         Não|       Desconhecido|               NULL|Não especificado|              2|           NULL|                                2|              NULL|\n",
            "|2020|  9|     3| Amapá|   33| Homem|     Branca|   Superior completo|  Não|  Não|            Não|                      Não|          Não|         Não|  Não|                         Não|   Não|          Não|                     Não|         Não|           Comércio|                 40|     801 - 1.600|              2|           NULL|                             NULL|              NULL|\n",
            "|2020|  9|     3| Amapá|   13|Mulher|      Parda|Fundamental incom...|  Não|  Não|            Não|                      Não|          Não|         Não|  Não|                         Não|   Não|          Não|                     Não|         Não|       Desconhecido|               NULL|Não especificado|              2|           NULL|                             NULL|              NULL|\n",
            "|2020|  9|     1| Amapá|   64| Homem|      Parda|Fundamental incom...|  Não|  Não|            Não|                      Não|          Não|         Não|  Não|                         Não|   Não|          Não|                     Não|         Não|      Administração|                 30|  3.001 - 10.000|              2|           NULL|                                1|                 1|\n",
            "|2020|  9|     1| Amapá|   21|Mulher|      Parda|   Superior completo|  Não|  Não|            Não|                      Não|          Não|         Não|  Não|                         Não|   Não|          Não|                     Não|         Não|        Alimentação|                 30|     801 - 1.600|              2|           NULL|                             NULL|              NULL|\n",
            "|2020|  9|     2| Amapá|   45|Mulher|      Parda|      Médio completo|  Sim|  Não|            Não|                      Não|          Não|         Sim|  Não|                         Não|   Não|          Não|                     Não|         Sim|       Desconhecido|               NULL|Não especificado|              2|           NULL|                                2|              NULL|\n",
            "|2020|  9|     2| Amapá|   61| Homem|      Parda|      Médio completo|  Não|  Não|            Não|                      Não|          Não|         Não|  Não|                         Não|   Não|          Não|                     Não|         Não|       Desconhecido|               NULL|Não especificado|              2|           NULL|                                2|              NULL|\n",
            "|2020|  9|     4| Amapá|   18| Homem|      Parda|    Médio incompleto|  Não|  Não|            Não|                      Não|          Não|         Não|  Não|                         Não|   Não|          Não|                     Não|         Não|       Desconhecido|               NULL|Não especificado|              2|           NULL|                                2|              NULL|\n",
            "|2020|  9|     4| Amapá|   41| Homem|      Parda| Superior incompleto|  Não|  Não|            Não|                      Não|          Não|         Não|  Não|                         Não|   Não|          Não|                     Não|         Não|           Comércio|                 44|  3.001 - 10.000|              2|           NULL|                             NULL|              NULL|\n",
            "|2020|  9|     4| Amapá|   38|Mulher|     Branca|       Pós-graduação|  Não|  Não|            Não|                      Não|          Não|         Não|  Não|                         Não|   Não|          Não|                     Não|         Não|              Saúde|                 40|     801 - 1.600|              2|           NULL|                             NULL|              NULL|\n",
            "|2020|  9|     4| Amapá|   42|Mulher|     Branca|      Médio completo|  Não|  Não|            Não|                      Não|          Não|         Não|  Não|                         Não|   Não|          Não|                     Não|         Não|       Desconhecido|               NULL|Não especificado|              1|              1|                                2|              NULL|\n",
            "|2020|  9|     3| Amapá|    7|Mulher|      Parda|Fundamental incom...|  Não|  Sim|            Sim|                      Não|          Sim|         Não|  Não|                         Não|   Não|          Não|                     Não|         Não|       Desconhecido|               NULL|Não especificado|              1|              1|                             NULL|              NULL|\n",
            "|2020|  9|     3| Amapá|   40|Mulher|      Parda|      Médio completo|  Não|  Sim|            Não|                      Não|          Não|         Não|  Não|                         Sim|   Não|          Não|                     Não|         Sim|       Desconhecido|               NULL|Não especificado|              1|              1|                                2|              NULL|\n",
            "|2020|  9|     1| Amapá|   35| Homem|      Parda|Fundamental incom...|  Sim|  Sim|            Sim|                      Sim|          Não|         Não|  Não|                         Não|   Não|          Não|                     Sim|         Não|       Desconhecido|               NULL|Não especificado|              2|           NULL|                                2|              NULL|\n",
            "|2020|  9|     3| Amapá|   68| Homem|      Preta|   Superior completo|  Não|  Não|            Não|                      Não|          Não|         Não|  Não|                         Não|   Não|          Não|                     Não|         Não|       Desconhecido|               NULL|Não especificado|              2|           NULL|                                2|              NULL|\n",
            "+----+---+------+------+-----+------+-----------+--------------------+-----+-----+---------------+-------------------------+-------------+------------+-----+----------------------------+------+-------------+------------------------+------------+-------------------+-------------------+----------------+---------------+---------------+---------------------------------+------------------+\n",
            "only showing top 20 rows\n",
            "\n"
          ]
        }
      ]
    },
    {
      "cell_type": "code",
      "source": [
        "df = df.withColumn(\n",
        "    \"Faixa_Etaria\",\n",
        "    when(col(\"idade\") < 18, \"Menor de 18\").when((col(\"idade\") >= 18) & (col(\"idade\") < 40), \"18-39\")\n",
        "    .when((col(\"idade\") >= 40) & (col(\"idade\") < 60), \"40-59\").when(col(\"idade\") >= 60, \"60+\")\n",
        ")\n",
        "df.show()"
      ],
      "metadata": {
        "id": "anJHr5yT4D7d",
        "colab": {
          "base_uri": "https://localhost:8080/"
        },
        "outputId": "794dd159-3ea5-4f1b-f06e-b6b79c60822e"
      },
      "execution_count": null,
      "outputs": [
        {
          "output_type": "stream",
          "name": "stdout",
          "text": [
            "+----+---+------+------+-----+------+-----------+--------------------+-----+-----+---------------+-------------------------+-------------+------------+-----+----------------------------+------+-------------+------------------------+------------+-------------------+-------------------+----------------+---------------+---------------+---------------------------------+------------------+------------+\n",
            "| ano|mes|semana|estado|idade|  sexo|cor_ou_raca|        escolaridade|febre|tosse|dor_de_garganta|dificuldade_para_respirar|dor_de_cabeca|dor_no_peito|nausa|nariz_entupido_ou_escorrendo|fadiga|dor_nos_olhos|perda_de_cheiro_ou_sabor|dor_muscular|atividade_profissao|semanas_trabalhadas|  faixa_de_renda|teste_realizado|resultado_teste|temporariamente_afastado_trabalho|motivo_afastamento|Faixa_Etaria|\n",
            "+----+---+------+------+-----+------+-----------+--------------------+-----+-----+---------------+-------------------------+-------------+------------+-----+----------------------------+------+-------------+------------------------+------------+-------------------+-------------------+----------------+---------------+---------------+---------------------------------+------------------+------------+\n",
            "|2020|  9|     1| Amapá|   47| Homem|      Parda| Superior incompleto|  Não|  Não|            Não|                      Não|          Não|         Não|  Não|                         Não|   Não|          Não|                     Não|         Não|            Energia|                 40|   1.601 - 3.000|              2|           NULL|                             NULL|              NULL|       40-59|\n",
            "|2020|  9|     4| Amapá|   20| Homem|     Branca|      Médio completo|  Não|  Não|            Não|                      Não|          Não|         Não|  Não|                         Não|   Não|          Não|                     Não|         Não|             Reparo|                 50|     801 - 1.600|              2|           NULL|                             NULL|              NULL|       18-39|\n",
            "|2020|  9|     2| Amapá|   18|Mulher|     Branca|      Médio completo|  Não|  Não|            Não|                      Não|          Não|         Não|  Não|                         Não|   Não|          Não|                     Não|         Não|       Desconhecido|               NULL|Não especificado|              2|           NULL|                                2|              NULL|       18-39|\n",
            "|2020|  9|     4| Amapá|   22| Homem|     Branca|      Médio completo|  Não|  Não|            Não|                      Não|          Não|         Não|  Não|                         Não|   Não|          Não|                     Não|         Não|       Desconhecido|               NULL|Não especificado|              2|           NULL|                                2|              NULL|       18-39|\n",
            "|2020|  9|     4| Amapá|   64|Mulher|      Parda|Fundamental incom...|  Não|  Não|            Não|                      Não|          Sim|         Não|  Não|                         Não|   Não|          Não|                     Não|         Não|           Comércio|                 50|       301 - 600|              2|           NULL|                             NULL|              NULL|         60+|\n",
            "|2020|  9|     3| Amapá|   19| Homem|      Parda| Superior incompleto|  Não|  Não|            Não|                      Não|          Não|         Não|  Não|                         Não|   Não|          Não|                     Não|         Não|       Desconhecido|               NULL|Não especificado|              2|           NULL|                                2|              NULL|       18-39|\n",
            "|2020|  9|     3| Amapá|   33| Homem|     Branca|   Superior completo|  Não|  Não|            Não|                      Não|          Não|         Não|  Não|                         Não|   Não|          Não|                     Não|         Não|           Comércio|                 40|     801 - 1.600|              2|           NULL|                             NULL|              NULL|       18-39|\n",
            "|2020|  9|     3| Amapá|   13|Mulher|      Parda|Fundamental incom...|  Não|  Não|            Não|                      Não|          Não|         Não|  Não|                         Não|   Não|          Não|                     Não|         Não|       Desconhecido|               NULL|Não especificado|              2|           NULL|                             NULL|              NULL| Menor de 18|\n",
            "|2020|  9|     1| Amapá|   64| Homem|      Parda|Fundamental incom...|  Não|  Não|            Não|                      Não|          Não|         Não|  Não|                         Não|   Não|          Não|                     Não|         Não|      Administração|                 30|  3.001 - 10.000|              2|           NULL|                                1|                 1|         60+|\n",
            "|2020|  9|     1| Amapá|   21|Mulher|      Parda|   Superior completo|  Não|  Não|            Não|                      Não|          Não|         Não|  Não|                         Não|   Não|          Não|                     Não|         Não|        Alimentação|                 30|     801 - 1.600|              2|           NULL|                             NULL|              NULL|       18-39|\n",
            "|2020|  9|     2| Amapá|   45|Mulher|      Parda|      Médio completo|  Sim|  Não|            Não|                      Não|          Não|         Sim|  Não|                         Não|   Não|          Não|                     Não|         Sim|       Desconhecido|               NULL|Não especificado|              2|           NULL|                                2|              NULL|       40-59|\n",
            "|2020|  9|     2| Amapá|   61| Homem|      Parda|      Médio completo|  Não|  Não|            Não|                      Não|          Não|         Não|  Não|                         Não|   Não|          Não|                     Não|         Não|       Desconhecido|               NULL|Não especificado|              2|           NULL|                                2|              NULL|         60+|\n",
            "|2020|  9|     4| Amapá|   18| Homem|      Parda|    Médio incompleto|  Não|  Não|            Não|                      Não|          Não|         Não|  Não|                         Não|   Não|          Não|                     Não|         Não|       Desconhecido|               NULL|Não especificado|              2|           NULL|                                2|              NULL|       18-39|\n",
            "|2020|  9|     4| Amapá|   41| Homem|      Parda| Superior incompleto|  Não|  Não|            Não|                      Não|          Não|         Não|  Não|                         Não|   Não|          Não|                     Não|         Não|           Comércio|                 44|  3.001 - 10.000|              2|           NULL|                             NULL|              NULL|       40-59|\n",
            "|2020|  9|     4| Amapá|   38|Mulher|     Branca|       Pós-graduação|  Não|  Não|            Não|                      Não|          Não|         Não|  Não|                         Não|   Não|          Não|                     Não|         Não|              Saúde|                 40|     801 - 1.600|              2|           NULL|                             NULL|              NULL|       18-39|\n",
            "|2020|  9|     4| Amapá|   42|Mulher|     Branca|      Médio completo|  Não|  Não|            Não|                      Não|          Não|         Não|  Não|                         Não|   Não|          Não|                     Não|         Não|       Desconhecido|               NULL|Não especificado|              1|              1|                                2|              NULL|       40-59|\n",
            "|2020|  9|     3| Amapá|    7|Mulher|      Parda|Fundamental incom...|  Não|  Sim|            Sim|                      Não|          Sim|         Não|  Não|                         Não|   Não|          Não|                     Não|         Não|       Desconhecido|               NULL|Não especificado|              1|              1|                             NULL|              NULL| Menor de 18|\n",
            "|2020|  9|     3| Amapá|   40|Mulher|      Parda|      Médio completo|  Não|  Sim|            Não|                      Não|          Não|         Não|  Não|                         Sim|   Não|          Não|                     Não|         Sim|       Desconhecido|               NULL|Não especificado|              1|              1|                                2|              NULL|       40-59|\n",
            "|2020|  9|     1| Amapá|   35| Homem|      Parda|Fundamental incom...|  Sim|  Sim|            Sim|                      Sim|          Não|         Não|  Não|                         Não|   Não|          Não|                     Sim|         Não|       Desconhecido|               NULL|Não especificado|              2|           NULL|                                2|              NULL|       18-39|\n",
            "|2020|  9|     3| Amapá|   68| Homem|      Preta|   Superior completo|  Não|  Não|            Não|                      Não|          Não|         Não|  Não|                         Não|   Não|          Não|                     Não|         Não|       Desconhecido|               NULL|Não especificado|              2|           NULL|                                2|              NULL|         60+|\n",
            "+----+---+------+------+-----+------+-----------+--------------------+-----+-----+---------------+-------------------------+-------------+------------+-----+----------------------------+------+-------------+------------------------+------------+-------------------+-------------------+----------------+---------------+---------------+---------------------------------+------------------+------------+\n",
            "only showing top 20 rows\n",
            "\n"
          ]
        }
      ]
    },
    {
      "cell_type": "code",
      "source": [
        "df = df.withColumn(\n",
        "    \"teste_realizado\",\n",
        "     when(col(\"teste_realizado\") == 1, \"Sim\")\n",
        "    .when(col(\"teste_realizado\") == 2, \"Não\")\n",
        "    .when(col(\"teste_realizado\") == 9, \"Ignorado\")\n",
        "    .otherwise(\"Não Aplicável\")\n",
        ")\n",
        "df.show()"
      ],
      "metadata": {
        "colab": {
          "base_uri": "https://localhost:8080/"
        },
        "id": "8JSdIvSQtA8F",
        "outputId": "ad58ccbf-0af4-475b-9053-b3b328e04e05"
      },
      "execution_count": null,
      "outputs": [
        {
          "output_type": "stream",
          "name": "stdout",
          "text": [
            "+----+---+------+------+-----+------+-----------+--------------------+-----+-----+---------------+-------------------------+-------------+------------+-----+----------------------------+------+-------------+------------------------+------------+-------------------+-------------------+----------------+---------------+---------------+---------------------------------+------------------+------------+\n",
            "| ano|mes|semana|estado|idade|  sexo|cor_ou_raca|        escolaridade|febre|tosse|dor_de_garganta|dificuldade_para_respirar|dor_de_cabeca|dor_no_peito|nausa|nariz_entupido_ou_escorrendo|fadiga|dor_nos_olhos|perda_de_cheiro_ou_sabor|dor_muscular|atividade_profissao|semanas_trabalhadas|  faixa_de_renda|teste_realizado|resultado_teste|temporariamente_afastado_trabalho|motivo_afastamento|Faixa_Etaria|\n",
            "+----+---+------+------+-----+------+-----------+--------------------+-----+-----+---------------+-------------------------+-------------+------------+-----+----------------------------+------+-------------+------------------------+------------+-------------------+-------------------+----------------+---------------+---------------+---------------------------------+------------------+------------+\n",
            "|2020|  9|     1| Amapá|   47| Homem|      Parda| Superior incompleto|  Não|  Não|            Não|                      Não|          Não|         Não|  Não|                         Não|   Não|          Não|                     Não|         Não|            Energia|                 40|   1.601 - 3.000|            Não|           NULL|                             NULL|              NULL|       40-59|\n",
            "|2020|  9|     4| Amapá|   20| Homem|     Branca|      Médio completo|  Não|  Não|            Não|                      Não|          Não|         Não|  Não|                         Não|   Não|          Não|                     Não|         Não|             Reparo|                 50|     801 - 1.600|            Não|           NULL|                             NULL|              NULL|       18-39|\n",
            "|2020|  9|     2| Amapá|   18|Mulher|     Branca|      Médio completo|  Não|  Não|            Não|                      Não|          Não|         Não|  Não|                         Não|   Não|          Não|                     Não|         Não|       Desconhecido|               NULL|Não especificado|            Não|           NULL|                                2|              NULL|       18-39|\n",
            "|2020|  9|     4| Amapá|   22| Homem|     Branca|      Médio completo|  Não|  Não|            Não|                      Não|          Não|         Não|  Não|                         Não|   Não|          Não|                     Não|         Não|       Desconhecido|               NULL|Não especificado|            Não|           NULL|                                2|              NULL|       18-39|\n",
            "|2020|  9|     4| Amapá|   64|Mulher|      Parda|Fundamental incom...|  Não|  Não|            Não|                      Não|          Sim|         Não|  Não|                         Não|   Não|          Não|                     Não|         Não|           Comércio|                 50|       301 - 600|            Não|           NULL|                             NULL|              NULL|         60+|\n",
            "|2020|  9|     3| Amapá|   19| Homem|      Parda| Superior incompleto|  Não|  Não|            Não|                      Não|          Não|         Não|  Não|                         Não|   Não|          Não|                     Não|         Não|       Desconhecido|               NULL|Não especificado|            Não|           NULL|                                2|              NULL|       18-39|\n",
            "|2020|  9|     3| Amapá|   33| Homem|     Branca|   Superior completo|  Não|  Não|            Não|                      Não|          Não|         Não|  Não|                         Não|   Não|          Não|                     Não|         Não|           Comércio|                 40|     801 - 1.600|            Não|           NULL|                             NULL|              NULL|       18-39|\n",
            "|2020|  9|     3| Amapá|   13|Mulher|      Parda|Fundamental incom...|  Não|  Não|            Não|                      Não|          Não|         Não|  Não|                         Não|   Não|          Não|                     Não|         Não|       Desconhecido|               NULL|Não especificado|            Não|           NULL|                             NULL|              NULL| Menor de 18|\n",
            "|2020|  9|     1| Amapá|   64| Homem|      Parda|Fundamental incom...|  Não|  Não|            Não|                      Não|          Não|         Não|  Não|                         Não|   Não|          Não|                     Não|         Não|      Administração|                 30|  3.001 - 10.000|            Não|           NULL|                                1|                 1|         60+|\n",
            "|2020|  9|     1| Amapá|   21|Mulher|      Parda|   Superior completo|  Não|  Não|            Não|                      Não|          Não|         Não|  Não|                         Não|   Não|          Não|                     Não|         Não|        Alimentação|                 30|     801 - 1.600|            Não|           NULL|                             NULL|              NULL|       18-39|\n",
            "|2020|  9|     2| Amapá|   45|Mulher|      Parda|      Médio completo|  Sim|  Não|            Não|                      Não|          Não|         Sim|  Não|                         Não|   Não|          Não|                     Não|         Sim|       Desconhecido|               NULL|Não especificado|            Não|           NULL|                                2|              NULL|       40-59|\n",
            "|2020|  9|     2| Amapá|   61| Homem|      Parda|      Médio completo|  Não|  Não|            Não|                      Não|          Não|         Não|  Não|                         Não|   Não|          Não|                     Não|         Não|       Desconhecido|               NULL|Não especificado|            Não|           NULL|                                2|              NULL|         60+|\n",
            "|2020|  9|     4| Amapá|   18| Homem|      Parda|    Médio incompleto|  Não|  Não|            Não|                      Não|          Não|         Não|  Não|                         Não|   Não|          Não|                     Não|         Não|       Desconhecido|               NULL|Não especificado|            Não|           NULL|                                2|              NULL|       18-39|\n",
            "|2020|  9|     4| Amapá|   41| Homem|      Parda| Superior incompleto|  Não|  Não|            Não|                      Não|          Não|         Não|  Não|                         Não|   Não|          Não|                     Não|         Não|           Comércio|                 44|  3.001 - 10.000|            Não|           NULL|                             NULL|              NULL|       40-59|\n",
            "|2020|  9|     4| Amapá|   38|Mulher|     Branca|       Pós-graduação|  Não|  Não|            Não|                      Não|          Não|         Não|  Não|                         Não|   Não|          Não|                     Não|         Não|              Saúde|                 40|     801 - 1.600|            Não|           NULL|                             NULL|              NULL|       18-39|\n",
            "|2020|  9|     4| Amapá|   42|Mulher|     Branca|      Médio completo|  Não|  Não|            Não|                      Não|          Não|         Não|  Não|                         Não|   Não|          Não|                     Não|         Não|       Desconhecido|               NULL|Não especificado|            Sim|              1|                                2|              NULL|       40-59|\n",
            "|2020|  9|     3| Amapá|    7|Mulher|      Parda|Fundamental incom...|  Não|  Sim|            Sim|                      Não|          Sim|         Não|  Não|                         Não|   Não|          Não|                     Não|         Não|       Desconhecido|               NULL|Não especificado|            Sim|              1|                             NULL|              NULL| Menor de 18|\n",
            "|2020|  9|     3| Amapá|   40|Mulher|      Parda|      Médio completo|  Não|  Sim|            Não|                      Não|          Não|         Não|  Não|                         Sim|   Não|          Não|                     Não|         Sim|       Desconhecido|               NULL|Não especificado|            Sim|              1|                                2|              NULL|       40-59|\n",
            "|2020|  9|     1| Amapá|   35| Homem|      Parda|Fundamental incom...|  Sim|  Sim|            Sim|                      Sim|          Não|         Não|  Não|                         Não|   Não|          Não|                     Sim|         Não|       Desconhecido|               NULL|Não especificado|            Não|           NULL|                                2|              NULL|       18-39|\n",
            "|2020|  9|     3| Amapá|   68| Homem|      Preta|   Superior completo|  Não|  Não|            Não|                      Não|          Não|         Não|  Não|                         Não|   Não|          Não|                     Não|         Não|       Desconhecido|               NULL|Não especificado|            Não|           NULL|                                2|              NULL|         60+|\n",
            "+----+---+------+------+-----+------+-----------+--------------------+-----+-----+---------------+-------------------------+-------------+------------+-----+----------------------------+------+-------------+------------------------+------------+-------------------+-------------------+----------------+---------------+---------------+---------------------------------+------------------+------------+\n",
            "only showing top 20 rows\n",
            "\n"
          ]
        }
      ]
    },
    {
      "cell_type": "code",
      "source": [
        "df = df.withColumn(\n",
        "    \"resultado_teste\",\n",
        "     when(col(\"resultado_teste\") == 1, \"Positivo\")\n",
        "    .when(col(\"resultado_teste\") == 2, \"Negativo\")\n",
        "    .when(col(\"resultado_teste\") == 2, \"Inconclusivo\")\n",
        "    .when(col(\"resultado_teste\") == 2, \"Ainda não recebeu o resultado\")\n",
        "    .when(col(\"resultado_teste\") == 9, \"Ignorado\")\n",
        "    .otherwise(\"Não Aplicável\")\n",
        ")\n",
        "df.show()"
      ],
      "metadata": {
        "colab": {
          "base_uri": "https://localhost:8080/"
        },
        "id": "updswtPXuSHt",
        "outputId": "41221be7-ec1a-4371-dfd0-3eeab23ea473"
      },
      "execution_count": null,
      "outputs": [
        {
          "output_type": "stream",
          "name": "stdout",
          "text": [
            "+----+---+------+------+-----+------+-----------+--------------------+-----+-----+---------------+-------------------------+-------------+------------+-----+----------------------------+------+-------------+------------------------+------------+-------------------+-------------------+----------------+---------------+---------------+---------------------------------+------------------+------------+\n",
            "| ano|mes|semana|estado|idade|  sexo|cor_ou_raca|        escolaridade|febre|tosse|dor_de_garganta|dificuldade_para_respirar|dor_de_cabeca|dor_no_peito|nausa|nariz_entupido_ou_escorrendo|fadiga|dor_nos_olhos|perda_de_cheiro_ou_sabor|dor_muscular|atividade_profissao|semanas_trabalhadas|  faixa_de_renda|teste_realizado|resultado_teste|temporariamente_afastado_trabalho|motivo_afastamento|Faixa_Etaria|\n",
            "+----+---+------+------+-----+------+-----------+--------------------+-----+-----+---------------+-------------------------+-------------+------------+-----+----------------------------+------+-------------+------------------------+------------+-------------------+-------------------+----------------+---------------+---------------+---------------------------------+------------------+------------+\n",
            "|2020|  9|     1| Amapá|   47| Homem|      Parda| Superior incompleto|  Não|  Não|            Não|                      Não|          Não|         Não|  Não|                         Não|   Não|          Não|                     Não|         Não|            Energia|                 40|   1.601 - 3.000|            Não|  Não Aplicável|                             NULL|              NULL|       40-59|\n",
            "|2020|  9|     4| Amapá|   20| Homem|     Branca|      Médio completo|  Não|  Não|            Não|                      Não|          Não|         Não|  Não|                         Não|   Não|          Não|                     Não|         Não|             Reparo|                 50|     801 - 1.600|            Não|  Não Aplicável|                             NULL|              NULL|       18-39|\n",
            "|2020|  9|     2| Amapá|   18|Mulher|     Branca|      Médio completo|  Não|  Não|            Não|                      Não|          Não|         Não|  Não|                         Não|   Não|          Não|                     Não|         Não|       Desconhecido|               NULL|Não especificado|            Não|  Não Aplicável|                                2|              NULL|       18-39|\n",
            "|2020|  9|     4| Amapá|   22| Homem|     Branca|      Médio completo|  Não|  Não|            Não|                      Não|          Não|         Não|  Não|                         Não|   Não|          Não|                     Não|         Não|       Desconhecido|               NULL|Não especificado|            Não|  Não Aplicável|                                2|              NULL|       18-39|\n",
            "|2020|  9|     4| Amapá|   64|Mulher|      Parda|Fundamental incom...|  Não|  Não|            Não|                      Não|          Sim|         Não|  Não|                         Não|   Não|          Não|                     Não|         Não|           Comércio|                 50|       301 - 600|            Não|  Não Aplicável|                             NULL|              NULL|         60+|\n",
            "|2020|  9|     3| Amapá|   19| Homem|      Parda| Superior incompleto|  Não|  Não|            Não|                      Não|          Não|         Não|  Não|                         Não|   Não|          Não|                     Não|         Não|       Desconhecido|               NULL|Não especificado|            Não|  Não Aplicável|                                2|              NULL|       18-39|\n",
            "|2020|  9|     3| Amapá|   33| Homem|     Branca|   Superior completo|  Não|  Não|            Não|                      Não|          Não|         Não|  Não|                         Não|   Não|          Não|                     Não|         Não|           Comércio|                 40|     801 - 1.600|            Não|  Não Aplicável|                             NULL|              NULL|       18-39|\n",
            "|2020|  9|     3| Amapá|   13|Mulher|      Parda|Fundamental incom...|  Não|  Não|            Não|                      Não|          Não|         Não|  Não|                         Não|   Não|          Não|                     Não|         Não|       Desconhecido|               NULL|Não especificado|            Não|  Não Aplicável|                             NULL|              NULL| Menor de 18|\n",
            "|2020|  9|     1| Amapá|   64| Homem|      Parda|Fundamental incom...|  Não|  Não|            Não|                      Não|          Não|         Não|  Não|                         Não|   Não|          Não|                     Não|         Não|      Administração|                 30|  3.001 - 10.000|            Não|  Não Aplicável|                                1|                 1|         60+|\n",
            "|2020|  9|     1| Amapá|   21|Mulher|      Parda|   Superior completo|  Não|  Não|            Não|                      Não|          Não|         Não|  Não|                         Não|   Não|          Não|                     Não|         Não|        Alimentação|                 30|     801 - 1.600|            Não|  Não Aplicável|                             NULL|              NULL|       18-39|\n",
            "|2020|  9|     2| Amapá|   45|Mulher|      Parda|      Médio completo|  Sim|  Não|            Não|                      Não|          Não|         Sim|  Não|                         Não|   Não|          Não|                     Não|         Sim|       Desconhecido|               NULL|Não especificado|            Não|  Não Aplicável|                                2|              NULL|       40-59|\n",
            "|2020|  9|     2| Amapá|   61| Homem|      Parda|      Médio completo|  Não|  Não|            Não|                      Não|          Não|         Não|  Não|                         Não|   Não|          Não|                     Não|         Não|       Desconhecido|               NULL|Não especificado|            Não|  Não Aplicável|                                2|              NULL|         60+|\n",
            "|2020|  9|     4| Amapá|   18| Homem|      Parda|    Médio incompleto|  Não|  Não|            Não|                      Não|          Não|         Não|  Não|                         Não|   Não|          Não|                     Não|         Não|       Desconhecido|               NULL|Não especificado|            Não|  Não Aplicável|                                2|              NULL|       18-39|\n",
            "|2020|  9|     4| Amapá|   41| Homem|      Parda| Superior incompleto|  Não|  Não|            Não|                      Não|          Não|         Não|  Não|                         Não|   Não|          Não|                     Não|         Não|           Comércio|                 44|  3.001 - 10.000|            Não|  Não Aplicável|                             NULL|              NULL|       40-59|\n",
            "|2020|  9|     4| Amapá|   38|Mulher|     Branca|       Pós-graduação|  Não|  Não|            Não|                      Não|          Não|         Não|  Não|                         Não|   Não|          Não|                     Não|         Não|              Saúde|                 40|     801 - 1.600|            Não|  Não Aplicável|                             NULL|              NULL|       18-39|\n",
            "|2020|  9|     4| Amapá|   42|Mulher|     Branca|      Médio completo|  Não|  Não|            Não|                      Não|          Não|         Não|  Não|                         Não|   Não|          Não|                     Não|         Não|       Desconhecido|               NULL|Não especificado|            Sim|       Positivo|                                2|              NULL|       40-59|\n",
            "|2020|  9|     3| Amapá|    7|Mulher|      Parda|Fundamental incom...|  Não|  Sim|            Sim|                      Não|          Sim|         Não|  Não|                         Não|   Não|          Não|                     Não|         Não|       Desconhecido|               NULL|Não especificado|            Sim|       Positivo|                             NULL|              NULL| Menor de 18|\n",
            "|2020|  9|     3| Amapá|   40|Mulher|      Parda|      Médio completo|  Não|  Sim|            Não|                      Não|          Não|         Não|  Não|                         Sim|   Não|          Não|                     Não|         Sim|       Desconhecido|               NULL|Não especificado|            Sim|       Positivo|                                2|              NULL|       40-59|\n",
            "|2020|  9|     1| Amapá|   35| Homem|      Parda|Fundamental incom...|  Sim|  Sim|            Sim|                      Sim|          Não|         Não|  Não|                         Não|   Não|          Não|                     Sim|         Não|       Desconhecido|               NULL|Não especificado|            Não|  Não Aplicável|                                2|              NULL|       18-39|\n",
            "|2020|  9|     3| Amapá|   68| Homem|      Preta|   Superior completo|  Não|  Não|            Não|                      Não|          Não|         Não|  Não|                         Não|   Não|          Não|                     Não|         Não|       Desconhecido|               NULL|Não especificado|            Não|  Não Aplicável|                                2|              NULL|         60+|\n",
            "+----+---+------+------+-----+------+-----------+--------------------+-----+-----+---------------+-------------------------+-------------+------------+-----+----------------------------+------+-------------+------------------------+------------+-------------------+-------------------+----------------+---------------+---------------+---------------------------------+------------------+------------+\n",
            "only showing top 20 rows\n",
            "\n"
          ]
        }
      ]
    },
    {
      "cell_type": "code",
      "source": [
        "df = df.withColumn(\n",
        "    \"temporariamente_afastado_trabalho\",\n",
        "     when(col(\"temporariamente_afastado_trabalho\") == 1, \"Sim\")\n",
        "    .when(col(\"temporariamente_afastado_trabalho\") == 2, \"Não\")\n",
        "    .otherwise(\"Não Aplicável\")\n",
        ")\n",
        "df.show()"
      ],
      "metadata": {
        "colab": {
          "base_uri": "https://localhost:8080/"
        },
        "id": "y3zwyCZOweVA",
        "outputId": "f2176bd7-1303-4df7-ed05-cb42be5f27de"
      },
      "execution_count": null,
      "outputs": [
        {
          "output_type": "stream",
          "name": "stdout",
          "text": [
            "+----+---+------+------+-----+------+-----------+--------------------+-----+-----+---------------+-------------------------+-------------+------------+-----+----------------------------+------+-------------+------------------------+------------+-------------------+-------------------+----------------+---------------+---------------+---------------------------------+------------------+------------+\n",
            "| ano|mes|semana|estado|idade|  sexo|cor_ou_raca|        escolaridade|febre|tosse|dor_de_garganta|dificuldade_para_respirar|dor_de_cabeca|dor_no_peito|nausa|nariz_entupido_ou_escorrendo|fadiga|dor_nos_olhos|perda_de_cheiro_ou_sabor|dor_muscular|atividade_profissao|semanas_trabalhadas|  faixa_de_renda|teste_realizado|resultado_teste|temporariamente_afastado_trabalho|motivo_afastamento|Faixa_Etaria|\n",
            "+----+---+------+------+-----+------+-----------+--------------------+-----+-----+---------------+-------------------------+-------------+------------+-----+----------------------------+------+-------------+------------------------+------------+-------------------+-------------------+----------------+---------------+---------------+---------------------------------+------------------+------------+\n",
            "|2020|  9|     1| Amapá|   47| Homem|      Parda| Superior incompleto|  Não|  Não|            Não|                      Não|          Não|         Não|  Não|                         Não|   Não|          Não|                     Não|         Não|            Energia|                 40|   1.601 - 3.000|            Não|  Não Aplicável|                    Não Aplicável|              NULL|       40-59|\n",
            "|2020|  9|     4| Amapá|   20| Homem|     Branca|      Médio completo|  Não|  Não|            Não|                      Não|          Não|         Não|  Não|                         Não|   Não|          Não|                     Não|         Não|             Reparo|                 50|     801 - 1.600|            Não|  Não Aplicável|                    Não Aplicável|              NULL|       18-39|\n",
            "|2020|  9|     2| Amapá|   18|Mulher|     Branca|      Médio completo|  Não|  Não|            Não|                      Não|          Não|         Não|  Não|                         Não|   Não|          Não|                     Não|         Não|       Desconhecido|               NULL|Não especificado|            Não|  Não Aplicável|                              Não|              NULL|       18-39|\n",
            "|2020|  9|     4| Amapá|   22| Homem|     Branca|      Médio completo|  Não|  Não|            Não|                      Não|          Não|         Não|  Não|                         Não|   Não|          Não|                     Não|         Não|       Desconhecido|               NULL|Não especificado|            Não|  Não Aplicável|                              Não|              NULL|       18-39|\n",
            "|2020|  9|     4| Amapá|   64|Mulher|      Parda|Fundamental incom...|  Não|  Não|            Não|                      Não|          Sim|         Não|  Não|                         Não|   Não|          Não|                     Não|         Não|           Comércio|                 50|       301 - 600|            Não|  Não Aplicável|                    Não Aplicável|              NULL|         60+|\n",
            "|2020|  9|     3| Amapá|   19| Homem|      Parda| Superior incompleto|  Não|  Não|            Não|                      Não|          Não|         Não|  Não|                         Não|   Não|          Não|                     Não|         Não|       Desconhecido|               NULL|Não especificado|            Não|  Não Aplicável|                              Não|              NULL|       18-39|\n",
            "|2020|  9|     3| Amapá|   33| Homem|     Branca|   Superior completo|  Não|  Não|            Não|                      Não|          Não|         Não|  Não|                         Não|   Não|          Não|                     Não|         Não|           Comércio|                 40|     801 - 1.600|            Não|  Não Aplicável|                    Não Aplicável|              NULL|       18-39|\n",
            "|2020|  9|     3| Amapá|   13|Mulher|      Parda|Fundamental incom...|  Não|  Não|            Não|                      Não|          Não|         Não|  Não|                         Não|   Não|          Não|                     Não|         Não|       Desconhecido|               NULL|Não especificado|            Não|  Não Aplicável|                    Não Aplicável|              NULL| Menor de 18|\n",
            "|2020|  9|     1| Amapá|   64| Homem|      Parda|Fundamental incom...|  Não|  Não|            Não|                      Não|          Não|         Não|  Não|                         Não|   Não|          Não|                     Não|         Não|      Administração|                 30|  3.001 - 10.000|            Não|  Não Aplicável|                              Sim|                 1|         60+|\n",
            "|2020|  9|     1| Amapá|   21|Mulher|      Parda|   Superior completo|  Não|  Não|            Não|                      Não|          Não|         Não|  Não|                         Não|   Não|          Não|                     Não|         Não|        Alimentação|                 30|     801 - 1.600|            Não|  Não Aplicável|                    Não Aplicável|              NULL|       18-39|\n",
            "|2020|  9|     2| Amapá|   45|Mulher|      Parda|      Médio completo|  Sim|  Não|            Não|                      Não|          Não|         Sim|  Não|                         Não|   Não|          Não|                     Não|         Sim|       Desconhecido|               NULL|Não especificado|            Não|  Não Aplicável|                              Não|              NULL|       40-59|\n",
            "|2020|  9|     2| Amapá|   61| Homem|      Parda|      Médio completo|  Não|  Não|            Não|                      Não|          Não|         Não|  Não|                         Não|   Não|          Não|                     Não|         Não|       Desconhecido|               NULL|Não especificado|            Não|  Não Aplicável|                              Não|              NULL|         60+|\n",
            "|2020|  9|     4| Amapá|   18| Homem|      Parda|    Médio incompleto|  Não|  Não|            Não|                      Não|          Não|         Não|  Não|                         Não|   Não|          Não|                     Não|         Não|       Desconhecido|               NULL|Não especificado|            Não|  Não Aplicável|                              Não|              NULL|       18-39|\n",
            "|2020|  9|     4| Amapá|   41| Homem|      Parda| Superior incompleto|  Não|  Não|            Não|                      Não|          Não|         Não|  Não|                         Não|   Não|          Não|                     Não|         Não|           Comércio|                 44|  3.001 - 10.000|            Não|  Não Aplicável|                    Não Aplicável|              NULL|       40-59|\n",
            "|2020|  9|     4| Amapá|   38|Mulher|     Branca|       Pós-graduação|  Não|  Não|            Não|                      Não|          Não|         Não|  Não|                         Não|   Não|          Não|                     Não|         Não|              Saúde|                 40|     801 - 1.600|            Não|  Não Aplicável|                    Não Aplicável|              NULL|       18-39|\n",
            "|2020|  9|     4| Amapá|   42|Mulher|     Branca|      Médio completo|  Não|  Não|            Não|                      Não|          Não|         Não|  Não|                         Não|   Não|          Não|                     Não|         Não|       Desconhecido|               NULL|Não especificado|            Sim|       Positivo|                              Não|              NULL|       40-59|\n",
            "|2020|  9|     3| Amapá|    7|Mulher|      Parda|Fundamental incom...|  Não|  Sim|            Sim|                      Não|          Sim|         Não|  Não|                         Não|   Não|          Não|                     Não|         Não|       Desconhecido|               NULL|Não especificado|            Sim|       Positivo|                    Não Aplicável|              NULL| Menor de 18|\n",
            "|2020|  9|     3| Amapá|   40|Mulher|      Parda|      Médio completo|  Não|  Sim|            Não|                      Não|          Não|         Não|  Não|                         Sim|   Não|          Não|                     Não|         Sim|       Desconhecido|               NULL|Não especificado|            Sim|       Positivo|                              Não|              NULL|       40-59|\n",
            "|2020|  9|     1| Amapá|   35| Homem|      Parda|Fundamental incom...|  Sim|  Sim|            Sim|                      Sim|          Não|         Não|  Não|                         Não|   Não|          Não|                     Sim|         Não|       Desconhecido|               NULL|Não especificado|            Não|  Não Aplicável|                              Não|              NULL|       18-39|\n",
            "|2020|  9|     3| Amapá|   68| Homem|      Preta|   Superior completo|  Não|  Não|            Não|                      Não|          Não|         Não|  Não|                         Não|   Não|          Não|                     Não|         Não|       Desconhecido|               NULL|Não especificado|            Não|  Não Aplicável|                              Não|              NULL|         60+|\n",
            "+----+---+------+------+-----+------+-----------+--------------------+-----+-----+---------------+-------------------------+-------------+------------+-----+----------------------------+------+-------------+------------------------+------------+-------------------+-------------------+----------------+---------------+---------------+---------------------------------+------------------+------------+\n",
            "only showing top 20 rows\n",
            "\n"
          ]
        }
      ]
    },
    {
      "cell_type": "code",
      "source": [
        "df = df.withColumn(\n",
        "    \"motivo_afastamento\",\n",
        "     when(col(\"motivo_afastamento\") == 1, \"Quarentena, isolamento, distanciamento social ou férias coletivas\")\n",
        "    .when(col(\"motivo_afastamento\") == 2, \"Outro motivo\")\n",
        "    .when(col(\"motivo_afastamento\") == 3, \"Licença\")\n",
        "    .when(col(\"motivo_afastamento\") == 4, \"Licença\")\n",
        "    .when(col(\"motivo_afastamento\") == 5, \"Licença\")\n",
        "    .when(col(\"motivo_afastamento\") == 6, \"Outro motivo\")\n",
        "    .when(col(\"motivo_afastamento\") == 7, \"Fatores ocasionais (mau tempo, paralisação nos serviços de transportes, etc.)\")\n",
        "    .when(col(\"motivo_afastamento\") == 8, \"Outro motivo\")\n",
        "    .otherwise(\"Não Aplicável\")\n",
        ")\n",
        "df.show()"
      ],
      "metadata": {
        "colab": {
          "base_uri": "https://localhost:8080/"
        },
        "id": "ii8fzk3yxbKv",
        "outputId": "5a64e593-cffe-4460-8809-4d4f8f82deb3"
      },
      "execution_count": null,
      "outputs": [
        {
          "output_type": "stream",
          "name": "stdout",
          "text": [
            "+----+---+------+------+-----+------+-----------+--------------------+-----+-----+---------------+-------------------------+-------------+------------+-----+----------------------------+------+-------------+------------------------+------------+-------------------+-------------------+----------------+---------------+---------------+---------------------------------+--------------------+------------+\n",
            "| ano|mes|semana|estado|idade|  sexo|cor_ou_raca|        escolaridade|febre|tosse|dor_de_garganta|dificuldade_para_respirar|dor_de_cabeca|dor_no_peito|nausa|nariz_entupido_ou_escorrendo|fadiga|dor_nos_olhos|perda_de_cheiro_ou_sabor|dor_muscular|atividade_profissao|semanas_trabalhadas|  faixa_de_renda|teste_realizado|resultado_teste|temporariamente_afastado_trabalho|  motivo_afastamento|Faixa_Etaria|\n",
            "+----+---+------+------+-----+------+-----------+--------------------+-----+-----+---------------+-------------------------+-------------+------------+-----+----------------------------+------+-------------+------------------------+------------+-------------------+-------------------+----------------+---------------+---------------+---------------------------------+--------------------+------------+\n",
            "|2020|  9|     1| Amapá|   47| Homem|      Parda| Superior incompleto|  Não|  Não|            Não|                      Não|          Não|         Não|  Não|                         Não|   Não|          Não|                     Não|         Não|            Energia|                 40|   1.601 - 3.000|            Não|  Não Aplicável|                    Não Aplicável|       Não Aplicável|       40-59|\n",
            "|2020|  9|     4| Amapá|   20| Homem|     Branca|      Médio completo|  Não|  Não|            Não|                      Não|          Não|         Não|  Não|                         Não|   Não|          Não|                     Não|         Não|             Reparo|                 50|     801 - 1.600|            Não|  Não Aplicável|                    Não Aplicável|       Não Aplicável|       18-39|\n",
            "|2020|  9|     2| Amapá|   18|Mulher|     Branca|      Médio completo|  Não|  Não|            Não|                      Não|          Não|         Não|  Não|                         Não|   Não|          Não|                     Não|         Não|       Desconhecido|               NULL|Não especificado|            Não|  Não Aplicável|                              Não|       Não Aplicável|       18-39|\n",
            "|2020|  9|     4| Amapá|   22| Homem|     Branca|      Médio completo|  Não|  Não|            Não|                      Não|          Não|         Não|  Não|                         Não|   Não|          Não|                     Não|         Não|       Desconhecido|               NULL|Não especificado|            Não|  Não Aplicável|                              Não|       Não Aplicável|       18-39|\n",
            "|2020|  9|     4| Amapá|   64|Mulher|      Parda|Fundamental incom...|  Não|  Não|            Não|                      Não|          Sim|         Não|  Não|                         Não|   Não|          Não|                     Não|         Não|           Comércio|                 50|       301 - 600|            Não|  Não Aplicável|                    Não Aplicável|       Não Aplicável|         60+|\n",
            "|2020|  9|     3| Amapá|   19| Homem|      Parda| Superior incompleto|  Não|  Não|            Não|                      Não|          Não|         Não|  Não|                         Não|   Não|          Não|                     Não|         Não|       Desconhecido|               NULL|Não especificado|            Não|  Não Aplicável|                              Não|       Não Aplicável|       18-39|\n",
            "|2020|  9|     3| Amapá|   33| Homem|     Branca|   Superior completo|  Não|  Não|            Não|                      Não|          Não|         Não|  Não|                         Não|   Não|          Não|                     Não|         Não|           Comércio|                 40|     801 - 1.600|            Não|  Não Aplicável|                    Não Aplicável|       Não Aplicável|       18-39|\n",
            "|2020|  9|     3| Amapá|   13|Mulher|      Parda|Fundamental incom...|  Não|  Não|            Não|                      Não|          Não|         Não|  Não|                         Não|   Não|          Não|                     Não|         Não|       Desconhecido|               NULL|Não especificado|            Não|  Não Aplicável|                    Não Aplicável|       Não Aplicável| Menor de 18|\n",
            "|2020|  9|     1| Amapá|   64| Homem|      Parda|Fundamental incom...|  Não|  Não|            Não|                      Não|          Não|         Não|  Não|                         Não|   Não|          Não|                     Não|         Não|      Administração|                 30|  3.001 - 10.000|            Não|  Não Aplicável|                              Sim|Quarentena, isola...|         60+|\n",
            "|2020|  9|     1| Amapá|   21|Mulher|      Parda|   Superior completo|  Não|  Não|            Não|                      Não|          Não|         Não|  Não|                         Não|   Não|          Não|                     Não|         Não|        Alimentação|                 30|     801 - 1.600|            Não|  Não Aplicável|                    Não Aplicável|       Não Aplicável|       18-39|\n",
            "|2020|  9|     2| Amapá|   45|Mulher|      Parda|      Médio completo|  Sim|  Não|            Não|                      Não|          Não|         Sim|  Não|                         Não|   Não|          Não|                     Não|         Sim|       Desconhecido|               NULL|Não especificado|            Não|  Não Aplicável|                              Não|       Não Aplicável|       40-59|\n",
            "|2020|  9|     2| Amapá|   61| Homem|      Parda|      Médio completo|  Não|  Não|            Não|                      Não|          Não|         Não|  Não|                         Não|   Não|          Não|                     Não|         Não|       Desconhecido|               NULL|Não especificado|            Não|  Não Aplicável|                              Não|       Não Aplicável|         60+|\n",
            "|2020|  9|     4| Amapá|   18| Homem|      Parda|    Médio incompleto|  Não|  Não|            Não|                      Não|          Não|         Não|  Não|                         Não|   Não|          Não|                     Não|         Não|       Desconhecido|               NULL|Não especificado|            Não|  Não Aplicável|                              Não|       Não Aplicável|       18-39|\n",
            "|2020|  9|     4| Amapá|   41| Homem|      Parda| Superior incompleto|  Não|  Não|            Não|                      Não|          Não|         Não|  Não|                         Não|   Não|          Não|                     Não|         Não|           Comércio|                 44|  3.001 - 10.000|            Não|  Não Aplicável|                    Não Aplicável|       Não Aplicável|       40-59|\n",
            "|2020|  9|     4| Amapá|   38|Mulher|     Branca|       Pós-graduação|  Não|  Não|            Não|                      Não|          Não|         Não|  Não|                         Não|   Não|          Não|                     Não|         Não|              Saúde|                 40|     801 - 1.600|            Não|  Não Aplicável|                    Não Aplicável|       Não Aplicável|       18-39|\n",
            "|2020|  9|     4| Amapá|   42|Mulher|     Branca|      Médio completo|  Não|  Não|            Não|                      Não|          Não|         Não|  Não|                         Não|   Não|          Não|                     Não|         Não|       Desconhecido|               NULL|Não especificado|            Sim|       Positivo|                              Não|       Não Aplicável|       40-59|\n",
            "|2020|  9|     3| Amapá|    7|Mulher|      Parda|Fundamental incom...|  Não|  Sim|            Sim|                      Não|          Sim|         Não|  Não|                         Não|   Não|          Não|                     Não|         Não|       Desconhecido|               NULL|Não especificado|            Sim|       Positivo|                    Não Aplicável|       Não Aplicável| Menor de 18|\n",
            "|2020|  9|     3| Amapá|   40|Mulher|      Parda|      Médio completo|  Não|  Sim|            Não|                      Não|          Não|         Não|  Não|                         Sim|   Não|          Não|                     Não|         Sim|       Desconhecido|               NULL|Não especificado|            Sim|       Positivo|                              Não|       Não Aplicável|       40-59|\n",
            "|2020|  9|     1| Amapá|   35| Homem|      Parda|Fundamental incom...|  Sim|  Sim|            Sim|                      Sim|          Não|         Não|  Não|                         Não|   Não|          Não|                     Sim|         Não|       Desconhecido|               NULL|Não especificado|            Não|  Não Aplicável|                              Não|       Não Aplicável|       18-39|\n",
            "|2020|  9|     3| Amapá|   68| Homem|      Preta|   Superior completo|  Não|  Não|            Não|                      Não|          Não|         Não|  Não|                         Não|   Não|          Não|                     Não|         Não|       Desconhecido|               NULL|Não especificado|            Não|  Não Aplicável|                              Não|       Não Aplicável|         60+|\n",
            "+----+---+------+------+-----+------+-----------+--------------------+-----+-----+---------------+-------------------------+-------------+------------+-----+----------------------------+------+-------------+------------------------+------------+-------------------+-------------------+----------------+---------------+---------------+---------------------------------+--------------------+------------+\n",
            "only showing top 20 rows\n",
            "\n"
          ]
        }
      ]
    },
    {
      "cell_type": "code",
      "source": [
        "from google.colab import drive\n",
        "drive.mount('/content/drive')"
      ],
      "metadata": {
        "colab": {
          "base_uri": "https://localhost:8080/"
        },
        "id": "Rd88VYrcNAUJ",
        "outputId": "90107cbd-eceb-41bb-dd09-5bf5f6b29689"
      },
      "execution_count": null,
      "outputs": [
        {
          "output_type": "stream",
          "name": "stdout",
          "text": [
            "Drive already mounted at /content/drive; to attempt to forcibly remount, call drive.mount(\"/content/drive\", force_remount=True).\n"
          ]
        }
      ]
    },
    {
      "cell_type": "code",
      "source": [
        "caminho = '/content/drive/My Drive/Pós FIAP - Fase 3/db_bq_spark_covid_19'\n",
        "\n",
        "df.write.csv(caminho, header=True)"
      ],
      "metadata": {
        "id": "r4DxWRWmNVTz"
      },
      "execution_count": null,
      "outputs": []
    }
  ]
}